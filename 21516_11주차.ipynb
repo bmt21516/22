{
  "nbformat": 4,
  "nbformat_minor": 0,
  "metadata": {
    "colab": {
      "name": "21516 11주차.ipynb",
      "provenance": [],
      "collapsed_sections": [],
      "authorship_tag": "ABX9TyPRM/Obu7zqd7atj34dhxG3",
      "include_colab_link": true
    },
    "kernelspec": {
      "name": "python3",
      "display_name": "Python 3"
    },
    "language_info": {
      "name": "python"
    }
  },
  "cells": [
    {
      "cell_type": "markdown",
      "metadata": {
        "id": "view-in-github",
        "colab_type": "text"
      },
      "source": [
        "<a href=\"https://colab.research.google.com/github/bmt21516/22/blob/main/21516_11%EC%A3%BC%EC%B0%A8.ipynb\" target=\"_parent\"><img src=\"https://colab.research.google.com/assets/colab-badge.svg\" alt=\"Open In Colab\"/></a>"
      ]
    },
    {
      "cell_type": "code",
      "metadata": {
        "id": "V0L2T5lnKMCt"
      },
      "source": [
        "import pandas as pd\n",
        "import numpy as np\n",
        "import matplotlib.pyplot as plt\n"
      ],
      "execution_count": 1,
      "outputs": []
    },
    {
      "cell_type": "code",
      "metadata": {
        "colab": {
          "base_uri": "https://localhost:8080/"
        },
        "id": "n3uZg1fhK80a",
        "outputId": "c054cc2b-0803-4ef5-f9fb-b6ca11818a0e"
      },
      "source": [
        "dates = pd.date_range('20210514' , periods=6)\n",
        "dates"
      ],
      "execution_count": 2,
      "outputs": [
        {
          "output_type": "execute_result",
          "data": {
            "text/plain": [
              "DatetimeIndex(['2021-05-14', '2021-05-15', '2021-05-16', '2021-05-17',\n",
              "               '2021-05-18', '2021-05-19'],\n",
              "              dtype='datetime64[ns]', freq='D')"
            ]
          },
          "metadata": {
            "tags": []
          },
          "execution_count": 2
        }
      ]
    },
    {
      "cell_type": "code",
      "metadata": {
        "id": "IERDCGQ5LYt3"
      },
      "source": [
        "df = pd.DataFrame(np.random.randn(6, 4), index = dates,  columns=list('ABCD'))"
      ],
      "execution_count": 5,
      "outputs": []
    },
    {
      "cell_type": "code",
      "metadata": {
        "colab": {
          "base_uri": "https://localhost:8080/"
        },
        "id": "xH2_f-vcL1hH",
        "outputId": "c8f2ddec-d031-441b-d1fc-b232fd6c283b"
      },
      "source": [
        "print(df);print()"
      ],
      "execution_count": 6,
      "outputs": [
        {
          "output_type": "stream",
          "text": [
            "                   A         B         C         D\n",
            "2021-05-14 -0.944322 -0.145399  0.905063 -0.133891\n",
            "2021-05-15 -1.754732 -0.458929 -1.188952  0.193529\n",
            "2021-05-16  2.092087  1.468715  2.445998  0.710288\n",
            "2021-05-17  0.948139  2.543358 -0.350604  0.096581\n",
            "2021-05-18 -1.353228  0.953152 -0.634274  1.450792\n",
            "2021-05-19  0.578512  0.737949 -1.537268  0.412254\n",
            "\n"
          ],
          "name": "stdout"
        }
      ]
    },
    {
      "cell_type": "code",
      "metadata": {
        "colab": {
          "base_uri": "https://localhost:8080/"
        },
        "id": "NjPXfTNULYSo",
        "outputId": "ba08ed29-abfc-4f6b-cf98-15513099e97a"
      },
      "source": [
        "df.mean(0)"
      ],
      "execution_count": 7,
      "outputs": [
        {
          "output_type": "execute_result",
          "data": {
            "text/plain": [
              "A   -0.072257\n",
              "B    0.849808\n",
              "C   -0.060006\n",
              "D    0.454925\n",
              "dtype: float64"
            ]
          },
          "metadata": {
            "tags": []
          },
          "execution_count": 7
        }
      ]
    },
    {
      "cell_type": "code",
      "metadata": {
        "colab": {
          "base_uri": "https://localhost:8080/",
          "height": 233
        },
        "id": "7CcbfQm2MYDd",
        "outputId": "9e4732a9-0cba-419b-dee7-e48de5b2afaf"
      },
      "source": [
        "df"
      ],
      "execution_count": 8,
      "outputs": [
        {
          "output_type": "execute_result",
          "data": {
            "text/html": [
              "<div>\n",
              "<style scoped>\n",
              "    .dataframe tbody tr th:only-of-type {\n",
              "        vertical-align: middle;\n",
              "    }\n",
              "\n",
              "    .dataframe tbody tr th {\n",
              "        vertical-align: top;\n",
              "    }\n",
              "\n",
              "    .dataframe thead th {\n",
              "        text-align: right;\n",
              "    }\n",
              "</style>\n",
              "<table border=\"1\" class=\"dataframe\">\n",
              "  <thead>\n",
              "    <tr style=\"text-align: right;\">\n",
              "      <th></th>\n",
              "      <th>A</th>\n",
              "      <th>B</th>\n",
              "      <th>C</th>\n",
              "      <th>D</th>\n",
              "    </tr>\n",
              "  </thead>\n",
              "  <tbody>\n",
              "    <tr>\n",
              "      <th>2021-05-14</th>\n",
              "      <td>-0.944322</td>\n",
              "      <td>-0.145399</td>\n",
              "      <td>0.905063</td>\n",
              "      <td>-0.133891</td>\n",
              "    </tr>\n",
              "    <tr>\n",
              "      <th>2021-05-15</th>\n",
              "      <td>-1.754732</td>\n",
              "      <td>-0.458929</td>\n",
              "      <td>-1.188952</td>\n",
              "      <td>0.193529</td>\n",
              "    </tr>\n",
              "    <tr>\n",
              "      <th>2021-05-16</th>\n",
              "      <td>2.092087</td>\n",
              "      <td>1.468715</td>\n",
              "      <td>2.445998</td>\n",
              "      <td>0.710288</td>\n",
              "    </tr>\n",
              "    <tr>\n",
              "      <th>2021-05-17</th>\n",
              "      <td>0.948139</td>\n",
              "      <td>2.543358</td>\n",
              "      <td>-0.350604</td>\n",
              "      <td>0.096581</td>\n",
              "    </tr>\n",
              "    <tr>\n",
              "      <th>2021-05-18</th>\n",
              "      <td>-1.353228</td>\n",
              "      <td>0.953152</td>\n",
              "      <td>-0.634274</td>\n",
              "      <td>1.450792</td>\n",
              "    </tr>\n",
              "    <tr>\n",
              "      <th>2021-05-19</th>\n",
              "      <td>0.578512</td>\n",
              "      <td>0.737949</td>\n",
              "      <td>-1.537268</td>\n",
              "      <td>0.412254</td>\n",
              "    </tr>\n",
              "  </tbody>\n",
              "</table>\n",
              "</div>"
            ],
            "text/plain": [
              "                   A         B         C         D\n",
              "2021-05-14 -0.944322 -0.145399  0.905063 -0.133891\n",
              "2021-05-15 -1.754732 -0.458929 -1.188952  0.193529\n",
              "2021-05-16  2.092087  1.468715  2.445998  0.710288\n",
              "2021-05-17  0.948139  2.543358 -0.350604  0.096581\n",
              "2021-05-18 -1.353228  0.953152 -0.634274  1.450792\n",
              "2021-05-19  0.578512  0.737949 -1.537268  0.412254"
            ]
          },
          "metadata": {
            "tags": []
          },
          "execution_count": 8
        }
      ]
    },
    {
      "cell_type": "code",
      "metadata": {
        "colab": {
          "base_uri": "https://localhost:8080/",
          "height": 233
        },
        "id": "QJ2ybRUCNB1m",
        "outputId": "850ea60d-8274-4af4-9be9-b6b8311afaad"
      },
      "source": [
        "df.apply(np.cumsum, axis=0)"
      ],
      "execution_count": 9,
      "outputs": [
        {
          "output_type": "execute_result",
          "data": {
            "text/html": [
              "<div>\n",
              "<style scoped>\n",
              "    .dataframe tbody tr th:only-of-type {\n",
              "        vertical-align: middle;\n",
              "    }\n",
              "\n",
              "    .dataframe tbody tr th {\n",
              "        vertical-align: top;\n",
              "    }\n",
              "\n",
              "    .dataframe thead th {\n",
              "        text-align: right;\n",
              "    }\n",
              "</style>\n",
              "<table border=\"1\" class=\"dataframe\">\n",
              "  <thead>\n",
              "    <tr style=\"text-align: right;\">\n",
              "      <th></th>\n",
              "      <th>A</th>\n",
              "      <th>B</th>\n",
              "      <th>C</th>\n",
              "      <th>D</th>\n",
              "    </tr>\n",
              "  </thead>\n",
              "  <tbody>\n",
              "    <tr>\n",
              "      <th>2021-05-14</th>\n",
              "      <td>-0.944322</td>\n",
              "      <td>-0.145399</td>\n",
              "      <td>0.905063</td>\n",
              "      <td>-0.133891</td>\n",
              "    </tr>\n",
              "    <tr>\n",
              "      <th>2021-05-15</th>\n",
              "      <td>-2.699054</td>\n",
              "      <td>-0.604328</td>\n",
              "      <td>-0.283889</td>\n",
              "      <td>0.059638</td>\n",
              "    </tr>\n",
              "    <tr>\n",
              "      <th>2021-05-16</th>\n",
              "      <td>-0.606967</td>\n",
              "      <td>0.864387</td>\n",
              "      <td>2.162109</td>\n",
              "      <td>0.769926</td>\n",
              "    </tr>\n",
              "    <tr>\n",
              "      <th>2021-05-17</th>\n",
              "      <td>0.341171</td>\n",
              "      <td>3.407745</td>\n",
              "      <td>1.811505</td>\n",
              "      <td>0.866507</td>\n",
              "    </tr>\n",
              "    <tr>\n",
              "      <th>2021-05-18</th>\n",
              "      <td>-1.012057</td>\n",
              "      <td>4.360897</td>\n",
              "      <td>1.177231</td>\n",
              "      <td>2.317299</td>\n",
              "    </tr>\n",
              "    <tr>\n",
              "      <th>2021-05-19</th>\n",
              "      <td>-0.433545</td>\n",
              "      <td>5.098846</td>\n",
              "      <td>-0.360037</td>\n",
              "      <td>2.729552</td>\n",
              "    </tr>\n",
              "  </tbody>\n",
              "</table>\n",
              "</div>"
            ],
            "text/plain": [
              "                   A         B         C         D\n",
              "2021-05-14 -0.944322 -0.145399  0.905063 -0.133891\n",
              "2021-05-15 -2.699054 -0.604328 -0.283889  0.059638\n",
              "2021-05-16 -0.606967  0.864387  2.162109  0.769926\n",
              "2021-05-17  0.341171  3.407745  1.811505  0.866507\n",
              "2021-05-18 -1.012057  4.360897  1.177231  2.317299\n",
              "2021-05-19 -0.433545  5.098846 -0.360037  2.729552"
            ]
          },
          "metadata": {
            "tags": []
          },
          "execution_count": 9
        }
      ]
    },
    {
      "cell_type": "code",
      "metadata": {
        "colab": {
          "base_uri": "https://localhost:8080/"
        },
        "id": "_JUXiE8kNe0G",
        "outputId": "df0a9c33-670e-4188-b632-4a88b3900b1e"
      },
      "source": [
        "print(df.apply(lambda x: x.max() - x.min()))"
      ],
      "execution_count": 10,
      "outputs": [
        {
          "output_type": "stream",
          "text": [
            "A    3.846819\n",
            "B    3.002287\n",
            "C    3.983266\n",
            "D    1.584683\n",
            "dtype: float64\n"
          ],
          "name": "stdout"
        }
      ]
    },
    {
      "cell_type": "code",
      "metadata": {
        "colab": {
          "base_uri": "https://localhost:8080/"
        },
        "id": "OXKqmnGJN39l",
        "outputId": "246f75fd-4e99-4eb7-ab9a-9b9df98932e5"
      },
      "source": [
        "df.apply(lambda x : x.max()-x.min(), axis= 1)"
      ],
      "execution_count": 11,
      "outputs": [
        {
          "output_type": "execute_result",
          "data": {
            "text/plain": [
              "2021-05-14    1.849385\n",
              "2021-05-15    1.948261\n",
              "2021-05-16    1.735710\n",
              "2021-05-17    2.893962\n",
              "2021-05-18    2.804020\n",
              "2021-05-19    2.275216\n",
              "Freq: D, dtype: float64"
            ]
          },
          "metadata": {
            "tags": []
          },
          "execution_count": 11
        }
      ]
    },
    {
      "cell_type": "code",
      "metadata": {
        "colab": {
          "base_uri": "https://localhost:8080/"
        },
        "id": "BPdw-WNwOXC1",
        "outputId": "69be1a7b-24d5-4ebc-cc74-315861f4da8d"
      },
      "source": [
        "s = pd.Series(np.random.randint(0, 7, size = 10))\n",
        "s"
      ],
      "execution_count": 12,
      "outputs": [
        {
          "output_type": "execute_result",
          "data": {
            "text/plain": [
              "0    2\n",
              "1    0\n",
              "2    1\n",
              "3    3\n",
              "4    5\n",
              "5    0\n",
              "6    0\n",
              "7    5\n",
              "8    4\n",
              "9    4\n",
              "dtype: int64"
            ]
          },
          "metadata": {
            "tags": []
          },
          "execution_count": 12
        }
      ]
    },
    {
      "cell_type": "code",
      "metadata": {
        "colab": {
          "base_uri": "https://localhost:8080/"
        },
        "id": "qHcmMJqmOp5W",
        "outputId": "f3b61932-3933-462a-8e66-a7db7bafbd5c"
      },
      "source": [
        "s = pd.Series(np.random.randint(1, 6, size = 60))\n",
        "print(s.value_counts()) "
      ],
      "execution_count": 14,
      "outputs": [
        {
          "output_type": "stream",
          "text": [
            "5    14\n",
            "2    14\n",
            "4    12\n",
            "3    11\n",
            "1     9\n",
            "dtype: int64\n"
          ],
          "name": "stdout"
        }
      ]
    },
    {
      "cell_type": "code",
      "metadata": {
        "colab": {
          "base_uri": "https://localhost:8080/"
        },
        "id": "Me4yJZZ6PN5W",
        "outputId": "6a813c4a-eb20-44c6-9916-077e7e3064b0"
      },
      "source": [
        "import pandas as pd\n",
        "import numpy as np\n",
        "\n",
        "df = pd.DataFrame(np.random.randn(10, 4)) # 수치 값 / 인덱스 번호 임의(0~) / 컬럼 번호 임의(0~)\n",
        "\n",
        "print(df);print()"
      ],
      "execution_count": 15,
      "outputs": [
        {
          "output_type": "stream",
          "text": [
            "          0         1         2         3\n",
            "0  0.194715  1.132730 -0.056702  0.591369\n",
            "1 -2.527360 -0.591103  1.515793  0.553407\n",
            "2 -0.382411  1.720779 -0.194818 -0.213592\n",
            "3  0.856916  0.147484 -0.829257 -0.885603\n",
            "4  1.652881  0.542868 -0.513744  2.205731\n",
            "5 -0.591319 -0.277420  0.494133 -0.279628\n",
            "6  1.129922  0.039201 -0.891085 -0.651705\n",
            "7 -0.317588 -0.956706 -1.326125  1.100374\n",
            "8 -0.163120 -0.100863  1.662835 -0.880932\n",
            "9 -0.023088 -1.674604 -0.011539 -0.104992\n",
            "\n"
          ],
          "name": "stdout"
        }
      ]
    },
    {
      "cell_type": "code",
      "metadata": {
        "id": "ss8QLilbQJC1"
      },
      "source": [
        "pieces = [df[:3], df[3:7], df[7:]]"
      ],
      "execution_count": 16,
      "outputs": []
    },
    {
      "cell_type": "code",
      "metadata": {
        "colab": {
          "base_uri": "https://localhost:8080/"
        },
        "id": "8khVnvCcQNal",
        "outputId": "7b437f45-b519-485d-f496-7f23732c1578"
      },
      "source": [
        "print(pieces);print()\n"
      ],
      "execution_count": 17,
      "outputs": [
        {
          "output_type": "stream",
          "text": [
            "[          0         1         2         3\n",
            "0  0.194715  1.132730 -0.056702  0.591369\n",
            "1 -2.527360 -0.591103  1.515793  0.553407\n",
            "2 -0.382411  1.720779 -0.194818 -0.213592,           0         1         2         3\n",
            "3  0.856916  0.147484 -0.829257 -0.885603\n",
            "4  1.652881  0.542868 -0.513744  2.205731\n",
            "5 -0.591319 -0.277420  0.494133 -0.279628\n",
            "6  1.129922  0.039201 -0.891085 -0.651705,           0         1         2         3\n",
            "7 -0.317588 -0.956706 -1.326125  1.100374\n",
            "8 -0.163120 -0.100863  1.662835 -0.880932\n",
            "9 -0.023088 -1.674604 -0.011539 -0.104992]\n",
            "\n"
          ],
          "name": "stdout"
        }
      ]
    },
    {
      "cell_type": "code",
      "metadata": {
        "colab": {
          "base_uri": "https://localhost:8080/"
        },
        "id": "mWnHoIzLQUTW",
        "outputId": "75544083-b93b-4a0e-d91c-392ea3208e06"
      },
      "source": [
        "print(pd.concat(pieces)) "
      ],
      "execution_count": 18,
      "outputs": [
        {
          "output_type": "stream",
          "text": [
            "          0         1         2         3\n",
            "0  0.194715  1.132730 -0.056702  0.591369\n",
            "1 -2.527360 -0.591103  1.515793  0.553407\n",
            "2 -0.382411  1.720779 -0.194818 -0.213592\n",
            "3  0.856916  0.147484 -0.829257 -0.885603\n",
            "4  1.652881  0.542868 -0.513744  2.205731\n",
            "5 -0.591319 -0.277420  0.494133 -0.279628\n",
            "6  1.129922  0.039201 -0.891085 -0.651705\n",
            "7 -0.317588 -0.956706 -1.326125  1.100374\n",
            "8 -0.163120 -0.100863  1.662835 -0.880932\n",
            "9 -0.023088 -1.674604 -0.011539 -0.104992\n"
          ],
          "name": "stdout"
        }
      ]
    },
    {
      "cell_type": "code",
      "metadata": {
        "colab": {
          "base_uri": "https://localhost:8080/"
        },
        "id": "3zsCC5xJQgE1",
        "outputId": "5a546074-ab2e-4056-9b00-094c77776fa4"
      },
      "source": [
        "import pandas as pd\n",
        "import numpy as np\n",
        "\n",
        "left = pd.DataFrame({'key':['foo', 'foo'], 'lval': [1, 2]})\n",
        "right = pd.DataFrame({'key':['foo', 'foo'], 'rval': [4, 5]})\n",
        "\n",
        "print(left);print()\n",
        "print(right);print()"
      ],
      "execution_count": 19,
      "outputs": [
        {
          "output_type": "stream",
          "text": [
            "   key  lval\n",
            "0  foo     1\n",
            "1  foo     2\n",
            "\n",
            "   key  rval\n",
            "0  foo     4\n",
            "1  foo     5\n",
            "\n"
          ],
          "name": "stdout"
        }
      ]
    },
    {
      "cell_type": "code",
      "metadata": {
        "id": "OTR9RczfRJ1o"
      },
      "source": [
        "left = pd.DataFrame(\n",
        "    {\n",
        "        'key':['foo', 'bar'],\n",
        "        'lval': [1, 2]\n",
        "     }\n",
        "    )"
      ],
      "execution_count": 22,
      "outputs": []
    },
    {
      "cell_type": "code",
      "metadata": {
        "colab": {
          "base_uri": "https://localhost:8080/",
          "height": 111
        },
        "id": "V-pIuvTEejmC",
        "outputId": "3f7b1bd6-7daf-4ad0-a188-1e1dfebcb0cf"
      },
      "source": [
        "left"
      ],
      "execution_count": 23,
      "outputs": [
        {
          "output_type": "execute_result",
          "data": {
            "text/html": [
              "<div>\n",
              "<style scoped>\n",
              "    .dataframe tbody tr th:only-of-type {\n",
              "        vertical-align: middle;\n",
              "    }\n",
              "\n",
              "    .dataframe tbody tr th {\n",
              "        vertical-align: top;\n",
              "    }\n",
              "\n",
              "    .dataframe thead th {\n",
              "        text-align: right;\n",
              "    }\n",
              "</style>\n",
              "<table border=\"1\" class=\"dataframe\">\n",
              "  <thead>\n",
              "    <tr style=\"text-align: right;\">\n",
              "      <th></th>\n",
              "      <th>key</th>\n",
              "      <th>lval</th>\n",
              "    </tr>\n",
              "  </thead>\n",
              "  <tbody>\n",
              "    <tr>\n",
              "      <th>0</th>\n",
              "      <td>foo</td>\n",
              "      <td>1</td>\n",
              "    </tr>\n",
              "    <tr>\n",
              "      <th>1</th>\n",
              "      <td>bar</td>\n",
              "      <td>2</td>\n",
              "    </tr>\n",
              "  </tbody>\n",
              "</table>\n",
              "</div>"
            ],
            "text/plain": [
              "   key  lval\n",
              "0  foo     1\n",
              "1  bar     2"
            ]
          },
          "metadata": {
            "tags": []
          },
          "execution_count": 23
        }
      ]
    },
    {
      "cell_type": "code",
      "metadata": {
        "colab": {
          "base_uri": "https://localhost:8080/",
          "height": 111
        },
        "id": "rXYuI5qZemyp",
        "outputId": "dec535f1-9363-4736-df33-893772fd4940"
      },
      "source": [
        "right"
      ],
      "execution_count": 24,
      "outputs": [
        {
          "output_type": "execute_result",
          "data": {
            "text/html": [
              "<div>\n",
              "<style scoped>\n",
              "    .dataframe tbody tr th:only-of-type {\n",
              "        vertical-align: middle;\n",
              "    }\n",
              "\n",
              "    .dataframe tbody tr th {\n",
              "        vertical-align: top;\n",
              "    }\n",
              "\n",
              "    .dataframe thead th {\n",
              "        text-align: right;\n",
              "    }\n",
              "</style>\n",
              "<table border=\"1\" class=\"dataframe\">\n",
              "  <thead>\n",
              "    <tr style=\"text-align: right;\">\n",
              "      <th></th>\n",
              "      <th>key</th>\n",
              "      <th>rval</th>\n",
              "    </tr>\n",
              "  </thead>\n",
              "  <tbody>\n",
              "    <tr>\n",
              "      <th>0</th>\n",
              "      <td>foo</td>\n",
              "      <td>4</td>\n",
              "    </tr>\n",
              "    <tr>\n",
              "      <th>1</th>\n",
              "      <td>foo</td>\n",
              "      <td>5</td>\n",
              "    </tr>\n",
              "  </tbody>\n",
              "</table>\n",
              "</div>"
            ],
            "text/plain": [
              "   key  rval\n",
              "0  foo     4\n",
              "1  foo     5"
            ]
          },
          "metadata": {
            "tags": []
          },
          "execution_count": 24
        }
      ]
    },
    {
      "cell_type": "code",
      "metadata": {
        "colab": {
          "base_uri": "https://localhost:8080/",
          "height": 111
        },
        "id": "PXUUooQne5nC",
        "outputId": "201ade0b-3c06-46d8-cad1-319ec4c0063c"
      },
      "source": [
        "pd.merge(left, right, on = 'key')"
      ],
      "execution_count": 25,
      "outputs": [
        {
          "output_type": "execute_result",
          "data": {
            "text/html": [
              "<div>\n",
              "<style scoped>\n",
              "    .dataframe tbody tr th:only-of-type {\n",
              "        vertical-align: middle;\n",
              "    }\n",
              "\n",
              "    .dataframe tbody tr th {\n",
              "        vertical-align: top;\n",
              "    }\n",
              "\n",
              "    .dataframe thead th {\n",
              "        text-align: right;\n",
              "    }\n",
              "</style>\n",
              "<table border=\"1\" class=\"dataframe\">\n",
              "  <thead>\n",
              "    <tr style=\"text-align: right;\">\n",
              "      <th></th>\n",
              "      <th>key</th>\n",
              "      <th>lval</th>\n",
              "      <th>rval</th>\n",
              "    </tr>\n",
              "  </thead>\n",
              "  <tbody>\n",
              "    <tr>\n",
              "      <th>0</th>\n",
              "      <td>foo</td>\n",
              "      <td>1</td>\n",
              "      <td>4</td>\n",
              "    </tr>\n",
              "    <tr>\n",
              "      <th>1</th>\n",
              "      <td>foo</td>\n",
              "      <td>1</td>\n",
              "      <td>5</td>\n",
              "    </tr>\n",
              "  </tbody>\n",
              "</table>\n",
              "</div>"
            ],
            "text/plain": [
              "   key  lval  rval\n",
              "0  foo     1     4\n",
              "1  foo     1     5"
            ]
          },
          "metadata": {
            "tags": []
          },
          "execution_count": 25
        }
      ]
    },
    {
      "cell_type": "code",
      "metadata": {
        "colab": {
          "base_uri": "https://localhost:8080/"
        },
        "id": "Mh1UBGfzfeHq",
        "outputId": "7b0c29a6-872d-4384-fa59-a2bff2f71e7a"
      },
      "source": [
        "print(df.append(s, ignore_index=True))"
      ],
      "execution_count": 26,
      "outputs": [
        {
          "output_type": "stream",
          "text": [
            "          0         1         2         3    4   ...   55   56   57   58   59\n",
            "0   0.194715  1.132730 -0.056702  0.591369  NaN  ...  NaN  NaN  NaN  NaN  NaN\n",
            "1  -2.527360 -0.591103  1.515793  0.553407  NaN  ...  NaN  NaN  NaN  NaN  NaN\n",
            "2  -0.382411  1.720779 -0.194818 -0.213592  NaN  ...  NaN  NaN  NaN  NaN  NaN\n",
            "3   0.856916  0.147484 -0.829257 -0.885603  NaN  ...  NaN  NaN  NaN  NaN  NaN\n",
            "4   1.652881  0.542868 -0.513744  2.205731  NaN  ...  NaN  NaN  NaN  NaN  NaN\n",
            "5  -0.591319 -0.277420  0.494133 -0.279628  NaN  ...  NaN  NaN  NaN  NaN  NaN\n",
            "6   1.129922  0.039201 -0.891085 -0.651705  NaN  ...  NaN  NaN  NaN  NaN  NaN\n",
            "7  -0.317588 -0.956706 -1.326125  1.100374  NaN  ...  NaN  NaN  NaN  NaN  NaN\n",
            "8  -0.163120 -0.100863  1.662835 -0.880932  NaN  ...  NaN  NaN  NaN  NaN  NaN\n",
            "9  -0.023088 -1.674604 -0.011539 -0.104992  NaN  ...  NaN  NaN  NaN  NaN  NaN\n",
            "10  2.000000  4.000000  2.000000  1.000000  4.0  ...  3.0  4.0  2.0  4.0  1.0\n",
            "\n",
            "[11 rows x 60 columns]\n"
          ],
          "name": "stdout"
        }
      ]
    },
    {
      "cell_type": "markdown",
      "metadata": {
        "id": "eMuGQ2l4eZM6"
      },
      "source": [
        ""
      ]
    }
  ]
}