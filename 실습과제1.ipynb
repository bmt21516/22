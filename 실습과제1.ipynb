{
  "nbformat": 4,
  "nbformat_minor": 0,
  "metadata": {
    "colab": {
      "name": "실습과제1",
      "provenance": [],
      "collapsed_sections": [],
      "authorship_tag": "ABX9TyPzaHB9eGecMJ0QNONNVj3T",
      "include_colab_link": true
    },
    "kernelspec": {
      "name": "python3",
      "display_name": "Python 3"
    }
  },
  "cells": [
    {
      "cell_type": "markdown",
      "metadata": {
        "id": "view-in-github",
        "colab_type": "text"
      },
      "source": [
        "<a href=\"https://colab.research.google.com/github/bmt21516/22/blob/main/%EC%8B%A4%EC%8A%B5%EA%B3%BC%EC%A0%9C1.ipynb\" target=\"_parent\"><img src=\"https://colab.research.google.com/assets/colab-badge.svg\" alt=\"Open In Colab\"/></a>"
      ]
    },
    {
      "cell_type": "markdown",
      "metadata": {
        "id": "cog9unBP4hn0"
      },
      "source": [
        "##파이선 기본 학습"
      ]
    },
    {
      "cell_type": "code",
      "metadata": {
        "id": "knzNTujw4rvN"
      },
      "source": [
        "# 입력, 출력, 연산자\r\n",
        "names = ['정밀', '폴리', '산설','메카','로봇','전기']"
      ],
      "execution_count": 1,
      "outputs": []
    },
    {
      "cell_type": "code",
      "metadata": {
        "colab": {
          "base_uri": "https://localhost:8080/"
        },
        "id": "3U8kpkpl6ZvG",
        "outputId": "d5647b19-87be-46f0-cf4a-dca75e56eaf9"
      },
      "source": [
        "names"
      ],
      "execution_count": 2,
      "outputs": [
        {
          "output_type": "execute_result",
          "data": {
            "text/plain": [
              "['정밀', '폴리', '산설', '메카', '로봇', '전기']"
            ]
          },
          "metadata": {
            "tags": []
          },
          "execution_count": 2
        }
      ]
    },
    {
      "cell_type": "code",
      "metadata": {
        "colab": {
          "base_uri": "https://localhost:8080/",
          "height": 35
        },
        "id": "KCR2u7CI6cRj",
        "outputId": "ea4988e1-b239-4f0c-f8e7-9036ddb7fe88"
      },
      "source": [
        "names[-1]"
      ],
      "execution_count": 4,
      "outputs": [
        {
          "output_type": "execute_result",
          "data": {
            "application/vnd.google.colaboratory.intrinsic+json": {
              "type": "string"
            },
            "text/plain": [
              "'전기'"
            ]
          },
          "metadata": {
            "tags": []
          },
          "execution_count": 4
        }
      ]
    },
    {
      "cell_type": "code",
      "metadata": {
        "colab": {
          "base_uri": "https://localhost:8080/",
          "height": 35
        },
        "id": "yLcwis4h7G7B",
        "outputId": "be0d420d-4159-49e5-e562-471ea9202478"
      },
      "source": [
        "names[5]"
      ],
      "execution_count": 6,
      "outputs": [
        {
          "output_type": "execute_result",
          "data": {
            "application/vnd.google.colaboratory.intrinsic+json": {
              "type": "string"
            },
            "text/plain": [
              "'전기'"
            ]
          },
          "metadata": {
            "tags": []
          },
          "execution_count": 6
        }
      ]
    },
    {
      "cell_type": "code",
      "metadata": {
        "colab": {
          "base_uri": "https://localhost:8080/",
          "height": 35
        },
        "id": "qtfQ8dfZ7KTA",
        "outputId": "746b2b64-83ef-4f9c-af4f-c6224c365b61"
      },
      "source": [
        "names[0]"
      ],
      "execution_count": 7,
      "outputs": [
        {
          "output_type": "execute_result",
          "data": {
            "application/vnd.google.colaboratory.intrinsic+json": {
              "type": "string"
            },
            "text/plain": [
              "'정밀'"
            ]
          },
          "metadata": {
            "tags": []
          },
          "execution_count": 7
        }
      ]
    },
    {
      "cell_type": "code",
      "metadata": {
        "id": "MD6Sexg58Fqv"
      },
      "source": [
        "names.append ('부산기계')"
      ],
      "execution_count": 11,
      "outputs": []
    },
    {
      "cell_type": "code",
      "metadata": {
        "colab": {
          "base_uri": "https://localhost:8080/"
        },
        "id": "7KEOK_Dv8ff0",
        "outputId": "2fe31123-1ee9-42b3-bffd-e48c992690d5"
      },
      "source": [
        "names"
      ],
      "execution_count": 13,
      "outputs": [
        {
          "output_type": "execute_result",
          "data": {
            "text/plain": [
              "['정밀', '폴리', '산설', '메카', '로봇', '전기', '부산기계']"
            ]
          },
          "metadata": {
            "tags": []
          },
          "execution_count": 13
        }
      ]
    },
    {
      "cell_type": "code",
      "metadata": {
        "colab": {
          "base_uri": "https://localhost:8080/"
        },
        "id": "nW_ZYSYg8wOp",
        "outputId": "0320f67e-e15b-4232-f20f-39f298ddadf5"
      },
      "source": [
        "for name in names:\r\n",
        "  if len(name) >2:\r\n",
        "   print(name)\r\n",
        "   print(name, '공업고등학교')\r\n",
        "   print(name+'공업고등학교')"
      ],
      "execution_count": 19,
      "outputs": [
        {
          "output_type": "stream",
          "text": [
            "부산기계\n",
            "부산기계 공업고등학교\n",
            "부산기계공업고등학교\n"
          ],
          "name": "stdout"
        }
      ]
    },
    {
      "cell_type": "code",
      "metadata": {
        "colab": {
          "base_uri": "https://localhost:8080/"
        },
        "id": "gZEgaCtL9HK7",
        "outputId": "929b5931-cebc-4556-ef58-4c5f4d210023"
      },
      "source": [
        "print(20**3)"
      ],
      "execution_count": 20,
      "outputs": [
        {
          "output_type": "stream",
          "text": [
            "8000\n"
          ],
          "name": "stdout"
        }
      ]
    },
    {
      "cell_type": "code",
      "metadata": {
        "colab": {
          "base_uri": "https://localhost:8080/"
        },
        "id": "uAmb_19bAmNg",
        "outputId": "1f8dc2c7-4cbb-41d5-a5f0-36e6284f68a1"
      },
      "source": [
        "print('hello world')"
      ],
      "execution_count": 21,
      "outputs": [
        {
          "output_type": "stream",
          "text": [
            "hello world\n"
          ],
          "name": "stdout"
        }
      ]
    },
    {
      "cell_type": "code",
      "metadata": {
        "colab": {
          "base_uri": "https://localhost:8080/"
        },
        "id": "3RKyxgpVAqf6",
        "outputId": "d575f585-e9ed-4390-91d5-a2b3f5749287"
      },
      "source": [
        "school = '부산기계공고'\r\n",
        "print(school)\r\n",
        "\r\n",
        "a=215\r\n",
        "print (a)\r\n",
        "\r\n",
        "name = '전기과'\r\n",
        "print(name)"
      ],
      "execution_count": 22,
      "outputs": [
        {
          "output_type": "stream",
          "text": [
            "부산기계공고\n",
            "215\n",
            "전기과 화이팅\n"
          ],
          "name": "stdout"
        }
      ]
    },
    {
      "cell_type": "code",
      "metadata": {
        "colab": {
          "base_uri": "https://localhost:8080/"
        },
        "id": "OO0aBmdNBeXb",
        "outputId": "424078d3-9882-4cc6-d69a-4f6a53d54b65"
      },
      "source": [
        "  print(f'2021학년도 {school} {name} 화이팅!!') #f포맷팅"
      ],
      "execution_count": 24,
      "outputs": [
        {
          "output_type": "stream",
          "text": [
            "2021학년도 부산기계공고 전기과 화이팅!!\n"
          ],
          "name": "stdout"
        }
      ]
    },
    {
      "cell_type": "code",
      "metadata": {
        "colab": {
          "base_uri": "https://localhost:8080/"
        },
        "id": "4Pc5rB7LBzDN",
        "outputId": "ca9a51e1-eb88-41e0-affe-32ce90fef005"
      },
      "source": [
        "name = input()\r\n",
        "print(name + \"님! 안녕하세요.!\")"
      ],
      "execution_count": 25,
      "outputs": [
        {
          "output_type": "stream",
          "text": [
            "이효종\n",
            "이효종님! 안녕하세요.!\n"
          ],
          "name": "stdout"
        }
      ]
    },
    {
      "cell_type": "code",
      "metadata": {
        "colab": {
          "base_uri": "https://localhost:8080/"
        },
        "id": "ZHP03HSgCN1O",
        "outputId": "7cf79f9a-cf78-4a47-c1fc-070decee8c4c"
      },
      "source": [
        "age = float(input('나이입력 :'))\r\n",
        "print(age-1)"
      ],
      "execution_count": 26,
      "outputs": [
        {
          "output_type": "stream",
          "text": [
            "나이입력 :15\n",
            "14.0\n"
          ],
          "name": "stdout"
        }
      ]
    }
  ]
}