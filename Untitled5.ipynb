{
  "nbformat": 4,
  "nbformat_minor": 0,
  "metadata": {
    "colab": {
      "name": "Untitled5.ipynb",
      "provenance": [],
      "authorship_tag": "ABX9TyNM6cJCBFjh3MCJo5A8rZbz",
      "include_colab_link": true
    },
    "kernelspec": {
      "name": "python3",
      "display_name": "Python 3"
    },
    "language_info": {
      "name": "python"
    }
  },
  "cells": [
    {
      "cell_type": "markdown",
      "metadata": {
        "id": "view-in-github",
        "colab_type": "text"
      },
      "source": [
        "<a href=\"https://colab.research.google.com/github/bmt21516/22/blob/main/Untitled5.ipynb\" target=\"_parent\"><img src=\"https://colab.research.google.com/assets/colab-badge.svg\" alt=\"Open In Colab\"/></a>"
      ]
    },
    {
      "cell_type": "code",
      "metadata": {
        "id": "oYspFkcsGyXr"
      },
      "source": [
        "import pandas as pd\n",
        "import numpy as np\n",
        "import matplotlib.pyplot as plt\n"
      ],
      "execution_count": 1,
      "outputs": []
    },
    {
      "cell_type": "code",
      "metadata": {
        "colab": {
          "base_uri": "https://localhost:8080/"
        },
        "id": "6TbTHphmHccT",
        "outputId": "0078b9ad-79e8-40c5-d9d7-92b9c7228722"
      },
      "source": [
        "s = pd.Series([1,3,5, np.nan, 6,8])\n",
        "a = [1,3,5, np.nan, 6,8]\n",
        "a"
      ],
      "execution_count": 4,
      "outputs": [
        {
          "output_type": "execute_result",
          "data": {
            "text/plain": [
              "[1, 3, 5, nan, 6, 8]"
            ]
          },
          "metadata": {
            "tags": []
          },
          "execution_count": 4
        }
      ]
    },
    {
      "cell_type": "code",
      "metadata": {
        "colab": {
          "base_uri": "https://localhost:8080/"
        },
        "id": "N9KxLH3KH_mC",
        "outputId": "2356982e-0719-438c-a35f-e9481bcf216b"
      },
      "source": [
        "type(s)"
      ],
      "execution_count": 5,
      "outputs": [
        {
          "output_type": "execute_result",
          "data": {
            "text/plain": [
              "pandas.core.series.Series"
            ]
          },
          "metadata": {
            "tags": []
          },
          "execution_count": 5
        }
      ]
    },
    {
      "cell_type": "code",
      "metadata": {
        "colab": {
          "base_uri": "https://localhost:8080/"
        },
        "id": "IH1MOZsEIrIo",
        "outputId": "56b146c2-2c74-49a8-bcd7-e9495222b58f"
      },
      "source": [
        "type(a)"
      ],
      "execution_count": 6,
      "outputs": [
        {
          "output_type": "execute_result",
          "data": {
            "text/plain": [
              "list"
            ]
          },
          "metadata": {
            "tags": []
          },
          "execution_count": 6
        }
      ]
    },
    {
      "cell_type": "code",
      "metadata": {
        "id": "JN5r_yirIs8I"
      },
      "source": [
        "dates = pd.date_range('20210507', periods=6)"
      ],
      "execution_count": 8,
      "outputs": []
    },
    {
      "cell_type": "code",
      "metadata": {
        "colab": {
          "base_uri": "https://localhost:8080/"
        },
        "id": "dMHjNUHyJaOz",
        "outputId": "ee7fa5af-ff11-4584-e939-f3d7eaf9068a"
      },
      "source": [
        "dates"
      ],
      "execution_count": 9,
      "outputs": [
        {
          "output_type": "execute_result",
          "data": {
            "text/plain": [
              "DatetimeIndex(['2021-05-07', '2021-05-08', '2021-05-09', '2021-05-10',\n",
              "               '2021-05-11', '2021-05-12'],\n",
              "              dtype='datetime64[ns]', freq='D')"
            ]
          },
          "metadata": {
            "tags": []
          },
          "execution_count": 9
        }
      ]
    },
    {
      "cell_type": "code",
      "metadata": {
        "colab": {
          "base_uri": "https://localhost:8080/",
          "height": 235
        },
        "id": "qU3RaXPMJdHT",
        "outputId": "faf230d2-29e7-40a7-9dc8-64b3a2add37a"
      },
      "source": [
        "df = pd.DataFrame(np.random.randn(6,4),index = dates)\n",
        "df\n"
      ],
      "execution_count": 12,
      "outputs": [
        {
          "output_type": "execute_result",
          "data": {
            "text/html": [
              "<div>\n",
              "<style scoped>\n",
              "    .dataframe tbody tr th:only-of-type {\n",
              "        vertical-align: middle;\n",
              "    }\n",
              "\n",
              "    .dataframe tbody tr th {\n",
              "        vertical-align: top;\n",
              "    }\n",
              "\n",
              "    .dataframe thead th {\n",
              "        text-align: right;\n",
              "    }\n",
              "</style>\n",
              "<table border=\"1\" class=\"dataframe\">\n",
              "  <thead>\n",
              "    <tr style=\"text-align: right;\">\n",
              "      <th></th>\n",
              "      <th>0</th>\n",
              "      <th>1</th>\n",
              "      <th>2</th>\n",
              "      <th>3</th>\n",
              "    </tr>\n",
              "  </thead>\n",
              "  <tbody>\n",
              "    <tr>\n",
              "      <th>2021-05-07</th>\n",
              "      <td>0.574115</td>\n",
              "      <td>-1.197016</td>\n",
              "      <td>-0.485409</td>\n",
              "      <td>-0.378143</td>\n",
              "    </tr>\n",
              "    <tr>\n",
              "      <th>2021-05-08</th>\n",
              "      <td>0.546003</td>\n",
              "      <td>-1.246141</td>\n",
              "      <td>-0.172158</td>\n",
              "      <td>0.371046</td>\n",
              "    </tr>\n",
              "    <tr>\n",
              "      <th>2021-05-09</th>\n",
              "      <td>-0.574801</td>\n",
              "      <td>-1.705502</td>\n",
              "      <td>0.669180</td>\n",
              "      <td>-0.118342</td>\n",
              "    </tr>\n",
              "    <tr>\n",
              "      <th>2021-05-10</th>\n",
              "      <td>0.922756</td>\n",
              "      <td>0.179711</td>\n",
              "      <td>2.219180</td>\n",
              "      <td>0.152842</td>\n",
              "    </tr>\n",
              "    <tr>\n",
              "      <th>2021-05-11</th>\n",
              "      <td>0.634392</td>\n",
              "      <td>-1.061960</td>\n",
              "      <td>-0.326386</td>\n",
              "      <td>0.128425</td>\n",
              "    </tr>\n",
              "    <tr>\n",
              "      <th>2021-05-12</th>\n",
              "      <td>1.019508</td>\n",
              "      <td>-0.260193</td>\n",
              "      <td>-0.176229</td>\n",
              "      <td>-0.489963</td>\n",
              "    </tr>\n",
              "  </tbody>\n",
              "</table>\n",
              "</div>"
            ],
            "text/plain": [
              "                   0         1         2         3\n",
              "2021-05-07  0.574115 -1.197016 -0.485409 -0.378143\n",
              "2021-05-08  0.546003 -1.246141 -0.172158  0.371046\n",
              "2021-05-09 -0.574801 -1.705502  0.669180 -0.118342\n",
              "2021-05-10  0.922756  0.179711  2.219180  0.152842\n",
              "2021-05-11  0.634392 -1.061960 -0.326386  0.128425\n",
              "2021-05-12  1.019508 -0.260193 -0.176229 -0.489963"
            ]
          },
          "metadata": {
            "tags": []
          },
          "execution_count": 12
        }
      ]
    },
    {
      "cell_type": "code",
      "metadata": {
        "colab": {
          "base_uri": "https://localhost:8080/",
          "height": 172
        },
        "id": "r0N1xT6iKEND",
        "outputId": "3b3ccbe1-3c26-4879-b72a-71d37a19a9a2"
      },
      "source": [
        "df = pd.DataFrame(np.random.randn(6,4),index = dates,columns=list['국영수물'])"
      ],
      "execution_count": 19,
      "outputs": [
        {
          "output_type": "error",
          "ename": "TypeError",
          "evalue": "ignored",
          "traceback": [
            "\u001b[0;31m---------------------------------------------------------------------------\u001b[0m",
            "\u001b[0;31mTypeError\u001b[0m                                 Traceback (most recent call last)",
            "\u001b[0;32m<ipython-input-19-923ed49045b7>\u001b[0m in \u001b[0;36m<module>\u001b[0;34m()\u001b[0m\n\u001b[0;32m----> 1\u001b[0;31m \u001b[0mdf\u001b[0m \u001b[0;34m=\u001b[0m \u001b[0mpd\u001b[0m\u001b[0;34m.\u001b[0m\u001b[0mDataFrame\u001b[0m\u001b[0;34m(\u001b[0m\u001b[0mnp\u001b[0m\u001b[0;34m.\u001b[0m\u001b[0mrandom\u001b[0m\u001b[0;34m.\u001b[0m\u001b[0mrandn\u001b[0m\u001b[0;34m(\u001b[0m\u001b[0;36m6\u001b[0m\u001b[0;34m,\u001b[0m\u001b[0;36m4\u001b[0m\u001b[0;34m)\u001b[0m\u001b[0;34m,\u001b[0m\u001b[0mindex\u001b[0m \u001b[0;34m=\u001b[0m \u001b[0mdates\u001b[0m\u001b[0;34m,\u001b[0m\u001b[0mcolumns\u001b[0m\u001b[0;34m=\u001b[0m\u001b[0mlist\u001b[0m\u001b[0;34m[\u001b[0m\u001b[0;34m'국영수물'\u001b[0m\u001b[0;34m]\u001b[0m\u001b[0;34m)\u001b[0m\u001b[0;34m\u001b[0m\u001b[0;34m\u001b[0m\u001b[0m\n\u001b[0m",
            "\u001b[0;31mTypeError\u001b[0m: 'type' object is not subscriptable"
          ]
        }
      ]
    },
    {
      "cell_type": "code",
      "metadata": {
        "colab": {
          "base_uri": "https://localhost:8080/",
          "height": 235
        },
        "id": "O42B1SZhKm-z",
        "outputId": "88f5c706-8085-4837-9be9-57aadf676872"
      },
      "source": [
        ""
      ],
      "execution_count": 16,
      "outputs": [
        {
          "output_type": "execute_result",
          "data": {
            "text/html": [
              "<div>\n",
              "<style scoped>\n",
              "    .dataframe tbody tr th:only-of-type {\n",
              "        vertical-align: middle;\n",
              "    }\n",
              "\n",
              "    .dataframe tbody tr th {\n",
              "        vertical-align: top;\n",
              "    }\n",
              "\n",
              "    .dataframe thead th {\n",
              "        text-align: right;\n",
              "    }\n",
              "</style>\n",
              "<table border=\"1\" class=\"dataframe\">\n",
              "  <thead>\n",
              "    <tr style=\"text-align: right;\">\n",
              "      <th></th>\n",
              "      <th>국어</th>\n",
              "      <th>영어</th>\n",
              "      <th>수학</th>\n",
              "      <th>물리</th>\n",
              "    </tr>\n",
              "  </thead>\n",
              "  <tbody>\n",
              "    <tr>\n",
              "      <th>2021-05-07</th>\n",
              "      <td>1.562448</td>\n",
              "      <td>0.674749</td>\n",
              "      <td>-0.458767</td>\n",
              "      <td>1.572883</td>\n",
              "    </tr>\n",
              "    <tr>\n",
              "      <th>2021-05-08</th>\n",
              "      <td>0.169289</td>\n",
              "      <td>0.652416</td>\n",
              "      <td>-0.730644</td>\n",
              "      <td>0.815407</td>\n",
              "    </tr>\n",
              "    <tr>\n",
              "      <th>2021-05-09</th>\n",
              "      <td>-0.128637</td>\n",
              "      <td>0.346681</td>\n",
              "      <td>1.996766</td>\n",
              "      <td>-0.551907</td>\n",
              "    </tr>\n",
              "    <tr>\n",
              "      <th>2021-05-10</th>\n",
              "      <td>-0.391996</td>\n",
              "      <td>-1.346176</td>\n",
              "      <td>1.534167</td>\n",
              "      <td>1.157938</td>\n",
              "    </tr>\n",
              "    <tr>\n",
              "      <th>2021-05-11</th>\n",
              "      <td>0.484134</td>\n",
              "      <td>0.012410</td>\n",
              "      <td>0.635395</td>\n",
              "      <td>0.480167</td>\n",
              "    </tr>\n",
              "    <tr>\n",
              "      <th>2021-05-12</th>\n",
              "      <td>0.721619</td>\n",
              "      <td>-2.408870</td>\n",
              "      <td>-0.145505</td>\n",
              "      <td>-0.628034</td>\n",
              "    </tr>\n",
              "  </tbody>\n",
              "</table>\n",
              "</div>"
            ],
            "text/plain": [
              "                  국어        영어        수학        물리\n",
              "2021-05-07  1.562448  0.674749 -0.458767  1.572883\n",
              "2021-05-08  0.169289  0.652416 -0.730644  0.815407\n",
              "2021-05-09 -0.128637  0.346681  1.996766 -0.551907\n",
              "2021-05-10 -0.391996 -1.346176  1.534167  1.157938\n",
              "2021-05-11  0.484134  0.012410  0.635395  0.480167\n",
              "2021-05-12  0.721619 -2.408870 -0.145505 -0.628034"
            ]
          },
          "metadata": {
            "tags": []
          },
          "execution_count": 16
        }
      ]
    },
    {
      "cell_type": "code",
      "metadata": {
        "colab": {
          "base_uri": "https://localhost:8080/",
          "height": 281
        },
        "id": "xlpfIm1sKn4j",
        "outputId": "8f20f1f2-38fb-4761-afa3-bc8690ef31e6"
      },
      "source": [
        "df2 = pd.DataFrame(\n",
        "    {\n",
        "        'A': 1.,\n",
        "        'B': pd.Timestamp('20201113'),\n",
        "        'C': pd.Series(1, index=list(range(4)), dtype='float32'),\n",
        "        'D': np.array([3] * 4, dtype='int32'),\n",
        "        'E': pd.Categorical([\"test\", \"train\", \"test\", \"train\"]),\n",
        "        'F': 'foo'\n",
        "     }\n",
        ")\n",
        "\n",
        "print(type(df2))\n",
        "print(df2)\n",
        "df2"
      ],
      "execution_count": 22,
      "outputs": [
        {
          "output_type": "stream",
          "text": [
            "<class 'pandas.core.frame.DataFrame'>\n",
            "     A          B    C  D      E    F\n",
            "0  1.0 2020-11-13  1.0  3   test  foo\n",
            "1  1.0 2020-11-13  1.0  3  train  foo\n",
            "2  1.0 2020-11-13  1.0  3   test  foo\n",
            "3  1.0 2020-11-13  1.0  3  train  foo\n"
          ],
          "name": "stdout"
        },
        {
          "output_type": "execute_result",
          "data": {
            "text/html": [
              "<div>\n",
              "<style scoped>\n",
              "    .dataframe tbody tr th:only-of-type {\n",
              "        vertical-align: middle;\n",
              "    }\n",
              "\n",
              "    .dataframe tbody tr th {\n",
              "        vertical-align: top;\n",
              "    }\n",
              "\n",
              "    .dataframe thead th {\n",
              "        text-align: right;\n",
              "    }\n",
              "</style>\n",
              "<table border=\"1\" class=\"dataframe\">\n",
              "  <thead>\n",
              "    <tr style=\"text-align: right;\">\n",
              "      <th></th>\n",
              "      <th>A</th>\n",
              "      <th>B</th>\n",
              "      <th>C</th>\n",
              "      <th>D</th>\n",
              "      <th>E</th>\n",
              "      <th>F</th>\n",
              "    </tr>\n",
              "  </thead>\n",
              "  <tbody>\n",
              "    <tr>\n",
              "      <th>0</th>\n",
              "      <td>1.0</td>\n",
              "      <td>2020-11-13</td>\n",
              "      <td>1.0</td>\n",
              "      <td>3</td>\n",
              "      <td>test</td>\n",
              "      <td>foo</td>\n",
              "    </tr>\n",
              "    <tr>\n",
              "      <th>1</th>\n",
              "      <td>1.0</td>\n",
              "      <td>2020-11-13</td>\n",
              "      <td>1.0</td>\n",
              "      <td>3</td>\n",
              "      <td>train</td>\n",
              "      <td>foo</td>\n",
              "    </tr>\n",
              "    <tr>\n",
              "      <th>2</th>\n",
              "      <td>1.0</td>\n",
              "      <td>2020-11-13</td>\n",
              "      <td>1.0</td>\n",
              "      <td>3</td>\n",
              "      <td>test</td>\n",
              "      <td>foo</td>\n",
              "    </tr>\n",
              "    <tr>\n",
              "      <th>3</th>\n",
              "      <td>1.0</td>\n",
              "      <td>2020-11-13</td>\n",
              "      <td>1.0</td>\n",
              "      <td>3</td>\n",
              "      <td>train</td>\n",
              "      <td>foo</td>\n",
              "    </tr>\n",
              "  </tbody>\n",
              "</table>\n",
              "</div>"
            ],
            "text/plain": [
              "     A          B    C  D      E    F\n",
              "0  1.0 2020-11-13  1.0  3   test  foo\n",
              "1  1.0 2020-11-13  1.0  3  train  foo\n",
              "2  1.0 2020-11-13  1.0  3   test  foo\n",
              "3  1.0 2020-11-13  1.0  3  train  foo"
            ]
          },
          "metadata": {
            "tags": []
          },
          "execution_count": 22
        }
      ]
    },
    {
      "cell_type": "code",
      "metadata": {
        "colab": {
          "base_uri": "https://localhost:8080/",
          "height": 235
        },
        "id": "6bkIZzRrMjy7",
        "outputId": "7211e8e5-4b81-49e3-dcfd-62faebcd3eeb"
      },
      "source": [
        "df"
      ],
      "execution_count": 23,
      "outputs": [
        {
          "output_type": "execute_result",
          "data": {
            "text/html": [
              "<div>\n",
              "<style scoped>\n",
              "    .dataframe tbody tr th:only-of-type {\n",
              "        vertical-align: middle;\n",
              "    }\n",
              "\n",
              "    .dataframe tbody tr th {\n",
              "        vertical-align: top;\n",
              "    }\n",
              "\n",
              "    .dataframe thead th {\n",
              "        text-align: right;\n",
              "    }\n",
              "</style>\n",
              "<table border=\"1\" class=\"dataframe\">\n",
              "  <thead>\n",
              "    <tr style=\"text-align: right;\">\n",
              "      <th></th>\n",
              "      <th>국어</th>\n",
              "      <th>영어</th>\n",
              "      <th>수학</th>\n",
              "      <th>물리</th>\n",
              "    </tr>\n",
              "  </thead>\n",
              "  <tbody>\n",
              "    <tr>\n",
              "      <th>2021-05-07</th>\n",
              "      <td>1.562448</td>\n",
              "      <td>0.674749</td>\n",
              "      <td>-0.458767</td>\n",
              "      <td>1.572883</td>\n",
              "    </tr>\n",
              "    <tr>\n",
              "      <th>2021-05-08</th>\n",
              "      <td>0.169289</td>\n",
              "      <td>0.652416</td>\n",
              "      <td>-0.730644</td>\n",
              "      <td>0.815407</td>\n",
              "    </tr>\n",
              "    <tr>\n",
              "      <th>2021-05-09</th>\n",
              "      <td>-0.128637</td>\n",
              "      <td>0.346681</td>\n",
              "      <td>1.996766</td>\n",
              "      <td>-0.551907</td>\n",
              "    </tr>\n",
              "    <tr>\n",
              "      <th>2021-05-10</th>\n",
              "      <td>-0.391996</td>\n",
              "      <td>-1.346176</td>\n",
              "      <td>1.534167</td>\n",
              "      <td>1.157938</td>\n",
              "    </tr>\n",
              "    <tr>\n",
              "      <th>2021-05-11</th>\n",
              "      <td>0.484134</td>\n",
              "      <td>0.012410</td>\n",
              "      <td>0.635395</td>\n",
              "      <td>0.480167</td>\n",
              "    </tr>\n",
              "    <tr>\n",
              "      <th>2021-05-12</th>\n",
              "      <td>0.721619</td>\n",
              "      <td>-2.408870</td>\n",
              "      <td>-0.145505</td>\n",
              "      <td>-0.628034</td>\n",
              "    </tr>\n",
              "  </tbody>\n",
              "</table>\n",
              "</div>"
            ],
            "text/plain": [
              "                  국어        영어        수학        물리\n",
              "2021-05-07  1.562448  0.674749 -0.458767  1.572883\n",
              "2021-05-08  0.169289  0.652416 -0.730644  0.815407\n",
              "2021-05-09 -0.128637  0.346681  1.996766 -0.551907\n",
              "2021-05-10 -0.391996 -1.346176  1.534167  1.157938\n",
              "2021-05-11  0.484134  0.012410  0.635395  0.480167\n",
              "2021-05-12  0.721619 -2.408870 -0.145505 -0.628034"
            ]
          },
          "metadata": {
            "tags": []
          },
          "execution_count": 23
        }
      ]
    },
    {
      "cell_type": "code",
      "metadata": {
        "colab": {
          "base_uri": "https://localhost:8080/",
          "height": 80
        },
        "id": "frz3WWf2NYiT",
        "outputId": "a3aee98e-367c-4288-83c0-7d6f62ab876a"
      },
      "source": [
        "df.head(1)"
      ],
      "execution_count": 24,
      "outputs": [
        {
          "output_type": "execute_result",
          "data": {
            "text/html": [
              "<div>\n",
              "<style scoped>\n",
              "    .dataframe tbody tr th:only-of-type {\n",
              "        vertical-align: middle;\n",
              "    }\n",
              "\n",
              "    .dataframe tbody tr th {\n",
              "        vertical-align: top;\n",
              "    }\n",
              "\n",
              "    .dataframe thead th {\n",
              "        text-align: right;\n",
              "    }\n",
              "</style>\n",
              "<table border=\"1\" class=\"dataframe\">\n",
              "  <thead>\n",
              "    <tr style=\"text-align: right;\">\n",
              "      <th></th>\n",
              "      <th>국어</th>\n",
              "      <th>영어</th>\n",
              "      <th>수학</th>\n",
              "      <th>물리</th>\n",
              "    </tr>\n",
              "  </thead>\n",
              "  <tbody>\n",
              "    <tr>\n",
              "      <th>2021-05-07</th>\n",
              "      <td>1.562448</td>\n",
              "      <td>0.674749</td>\n",
              "      <td>-0.458767</td>\n",
              "      <td>1.572883</td>\n",
              "    </tr>\n",
              "  </tbody>\n",
              "</table>\n",
              "</div>"
            ],
            "text/plain": [
              "                  국어        영어        수학        물리\n",
              "2021-05-07  1.562448  0.674749 -0.458767  1.572883"
            ]
          },
          "metadata": {
            "tags": []
          },
          "execution_count": 24
        }
      ]
    },
    {
      "cell_type": "code",
      "metadata": {
        "colab": {
          "base_uri": "https://localhost:8080/",
          "height": 111
        },
        "id": "hnGo7U0LNmuD",
        "outputId": "44c997d8-0aad-49fe-aa19-bd121eb2c565"
      },
      "source": [
        "df.tail(2)"
      ],
      "execution_count": 25,
      "outputs": [
        {
          "output_type": "execute_result",
          "data": {
            "text/html": [
              "<div>\n",
              "<style scoped>\n",
              "    .dataframe tbody tr th:only-of-type {\n",
              "        vertical-align: middle;\n",
              "    }\n",
              "\n",
              "    .dataframe tbody tr th {\n",
              "        vertical-align: top;\n",
              "    }\n",
              "\n",
              "    .dataframe thead th {\n",
              "        text-align: right;\n",
              "    }\n",
              "</style>\n",
              "<table border=\"1\" class=\"dataframe\">\n",
              "  <thead>\n",
              "    <tr style=\"text-align: right;\">\n",
              "      <th></th>\n",
              "      <th>국어</th>\n",
              "      <th>영어</th>\n",
              "      <th>수학</th>\n",
              "      <th>물리</th>\n",
              "    </tr>\n",
              "  </thead>\n",
              "  <tbody>\n",
              "    <tr>\n",
              "      <th>2021-05-11</th>\n",
              "      <td>0.484134</td>\n",
              "      <td>0.01241</td>\n",
              "      <td>0.635395</td>\n",
              "      <td>0.480167</td>\n",
              "    </tr>\n",
              "    <tr>\n",
              "      <th>2021-05-12</th>\n",
              "      <td>0.721619</td>\n",
              "      <td>-2.40887</td>\n",
              "      <td>-0.145505</td>\n",
              "      <td>-0.628034</td>\n",
              "    </tr>\n",
              "  </tbody>\n",
              "</table>\n",
              "</div>"
            ],
            "text/plain": [
              "                  국어       영어        수학        물리\n",
              "2021-05-11  0.484134  0.01241  0.635395  0.480167\n",
              "2021-05-12  0.721619 -2.40887 -0.145505 -0.628034"
            ]
          },
          "metadata": {
            "tags": []
          },
          "execution_count": 25
        }
      ]
    },
    {
      "cell_type": "code",
      "metadata": {
        "colab": {
          "base_uri": "https://localhost:8080/"
        },
        "id": "BupUucpLNu6j",
        "outputId": "b0ebb532-e15e-4177-9f04-a53143b14ab8"
      },
      "source": [
        "df.index"
      ],
      "execution_count": 32,
      "outputs": [
        {
          "output_type": "execute_result",
          "data": {
            "text/plain": [
              "DatetimeIndex(['2021-05-07', '2021-05-08', '2021-05-09', '2021-05-10',\n",
              "               '2021-05-11', '2021-05-12'],\n",
              "              dtype='datetime64[ns]', freq='D')"
            ]
          },
          "metadata": {
            "tags": []
          },
          "execution_count": 32
        }
      ]
    },
    {
      "cell_type": "code",
      "metadata": {
        "colab": {
          "base_uri": "https://localhost:8080/"
        },
        "id": "Di6FrRwwN19T",
        "outputId": "bdf8b79f-fb2c-466e-a8fa-61f74eead837"
      },
      "source": [
        "df.columns"
      ],
      "execution_count": 28,
      "outputs": [
        {
          "output_type": "execute_result",
          "data": {
            "text/plain": [
              "Index(['국어', '영어', '수학', '물리'], dtype='object')"
            ]
          },
          "metadata": {
            "tags": []
          },
          "execution_count": 28
        }
      ]
    },
    {
      "cell_type": "code",
      "metadata": {
        "colab": {
          "base_uri": "https://localhost:8080/",
          "height": 297
        },
        "id": "f1fNpLnJN-ED",
        "outputId": "0f399880-9504-4f65-b34f-7eecf5a8bcf4"
      },
      "source": [
        "df.describe()"
      ],
      "execution_count": 31,
      "outputs": [
        {
          "output_type": "execute_result",
          "data": {
            "text/html": [
              "<div>\n",
              "<style scoped>\n",
              "    .dataframe tbody tr th:only-of-type {\n",
              "        vertical-align: middle;\n",
              "    }\n",
              "\n",
              "    .dataframe tbody tr th {\n",
              "        vertical-align: top;\n",
              "    }\n",
              "\n",
              "    .dataframe thead th {\n",
              "        text-align: right;\n",
              "    }\n",
              "</style>\n",
              "<table border=\"1\" class=\"dataframe\">\n",
              "  <thead>\n",
              "    <tr style=\"text-align: right;\">\n",
              "      <th></th>\n",
              "      <th>국어</th>\n",
              "      <th>영어</th>\n",
              "      <th>수학</th>\n",
              "      <th>물리</th>\n",
              "    </tr>\n",
              "  </thead>\n",
              "  <tbody>\n",
              "    <tr>\n",
              "      <th>count</th>\n",
              "      <td>6.000000</td>\n",
              "      <td>6.000000</td>\n",
              "      <td>6.000000</td>\n",
              "      <td>6.000000</td>\n",
              "    </tr>\n",
              "    <tr>\n",
              "      <th>mean</th>\n",
              "      <td>0.402809</td>\n",
              "      <td>-0.344798</td>\n",
              "      <td>0.471902</td>\n",
              "      <td>0.474409</td>\n",
              "    </tr>\n",
              "    <tr>\n",
              "      <th>std</th>\n",
              "      <td>0.695945</td>\n",
              "      <td>1.257204</td>\n",
              "      <td>1.111198</td>\n",
              "      <td>0.900985</td>\n",
              "    </tr>\n",
              "    <tr>\n",
              "      <th>min</th>\n",
              "      <td>-0.391996</td>\n",
              "      <td>-2.408870</td>\n",
              "      <td>-0.730644</td>\n",
              "      <td>-0.628034</td>\n",
              "    </tr>\n",
              "    <tr>\n",
              "      <th>25%</th>\n",
              "      <td>-0.054156</td>\n",
              "      <td>-1.006530</td>\n",
              "      <td>-0.380452</td>\n",
              "      <td>-0.293888</td>\n",
              "    </tr>\n",
              "    <tr>\n",
              "      <th>50%</th>\n",
              "      <td>0.326711</td>\n",
              "      <td>0.179545</td>\n",
              "      <td>0.244945</td>\n",
              "      <td>0.647787</td>\n",
              "    </tr>\n",
              "    <tr>\n",
              "      <th>75%</th>\n",
              "      <td>0.662248</td>\n",
              "      <td>0.575982</td>\n",
              "      <td>1.309474</td>\n",
              "      <td>1.072305</td>\n",
              "    </tr>\n",
              "    <tr>\n",
              "      <th>max</th>\n",
              "      <td>1.562448</td>\n",
              "      <td>0.674749</td>\n",
              "      <td>1.996766</td>\n",
              "      <td>1.572883</td>\n",
              "    </tr>\n",
              "  </tbody>\n",
              "</table>\n",
              "</div>"
            ],
            "text/plain": [
              "             국어        영어        수학        물리\n",
              "count  6.000000  6.000000  6.000000  6.000000\n",
              "mean   0.402809 -0.344798  0.471902  0.474409\n",
              "std    0.695945  1.257204  1.111198  0.900985\n",
              "min   -0.391996 -2.408870 -0.730644 -0.628034\n",
              "25%   -0.054156 -1.006530 -0.380452 -0.293888\n",
              "50%    0.326711  0.179545  0.244945  0.647787\n",
              "75%    0.662248  0.575982  1.309474  1.072305\n",
              "max    1.562448  0.674749  1.996766  1.572883"
            ]
          },
          "metadata": {
            "tags": []
          },
          "execution_count": 31
        }
      ]
    },
    {
      "cell_type": "code",
      "metadata": {
        "colab": {
          "base_uri": "https://localhost:8080/"
        },
        "id": "8lgSfkBvOMyT",
        "outputId": "18c7a976-aaef-49af-d56d-9a23a44edd3c"
      },
      "source": [
        "df.max"
      ],
      "execution_count": 33,
      "outputs": [
        {
          "output_type": "execute_result",
          "data": {
            "text/plain": [
              "<bound method DataFrame.max of                   국어        영어        수학        물리\n",
              "2021-05-07  1.562448  0.674749 -0.458767  1.572883\n",
              "2021-05-08  0.169289  0.652416 -0.730644  0.815407\n",
              "2021-05-09 -0.128637  0.346681  1.996766 -0.551907\n",
              "2021-05-10 -0.391996 -1.346176  1.534167  1.157938\n",
              "2021-05-11  0.484134  0.012410  0.635395  0.480167\n",
              "2021-05-12  0.721619 -2.408870 -0.145505 -0.628034>"
            ]
          },
          "metadata": {
            "tags": []
          },
          "execution_count": 33
        }
      ]
    },
    {
      "cell_type": "code",
      "metadata": {
        "colab": {
          "base_uri": "https://localhost:8080/"
        },
        "id": "eGvrwy8kOq2T",
        "outputId": "c9938658-93ba-416a-ad8e-586c41a23c36"
      },
      "source": [
        "print(df.sort_index(axis=1, ascending=True))"
      ],
      "execution_count": 34,
      "outputs": [
        {
          "output_type": "stream",
          "text": [
            "                  국어        물리        수학        영어\n",
            "2021-05-07  1.562448  1.572883 -0.458767  0.674749\n",
            "2021-05-08  0.169289  0.815407 -0.730644  0.652416\n",
            "2021-05-09 -0.128637 -0.551907  1.996766  0.346681\n",
            "2021-05-10 -0.391996  1.157938  1.534167 -1.346176\n",
            "2021-05-11  0.484134  0.480167  0.635395  0.012410\n",
            "2021-05-12  0.721619 -0.628034 -0.145505 -2.408870\n"
          ],
          "name": "stdout"
        }
      ]
    },
    {
      "cell_type": "code",
      "metadata": {
        "colab": {
          "base_uri": "https://localhost:8080/"
        },
        "id": "4Jwmc_pwR2Wz",
        "outputId": "1135be53-5468-4c02-e25b-34b875e5684d"
      },
      "source": [
        "print(df.sort_index(axis=1, ascending=False))"
      ],
      "execution_count": 35,
      "outputs": [
        {
          "output_type": "stream",
          "text": [
            "                  영어        수학        물리        국어\n",
            "2021-05-07  0.674749 -0.458767  1.572883  1.562448\n",
            "2021-05-08  0.652416 -0.730644  0.815407  0.169289\n",
            "2021-05-09  0.346681  1.996766 -0.551907 -0.128637\n",
            "2021-05-10 -1.346176  1.534167  1.157938 -0.391996\n",
            "2021-05-11  0.012410  0.635395  0.480167  0.484134\n",
            "2021-05-12 -2.408870 -0.145505 -0.628034  0.721619\n"
          ],
          "name": "stdout"
        }
      ]
    },
    {
      "cell_type": "code",
      "metadata": {
        "colab": {
          "base_uri": "https://localhost:8080/"
        },
        "id": "xx_jq-m7RoJk",
        "outputId": "5f042f6e-849a-46b6-d1c6-ba100fdbda6e"
      },
      "source": [
        "print(df.sort_index(axis=0, ascending=False))"
      ],
      "execution_count": 36,
      "outputs": [
        {
          "output_type": "stream",
          "text": [
            "                  국어        영어        수학        물리\n",
            "2021-05-12  0.721619 -2.408870 -0.145505 -0.628034\n",
            "2021-05-11  0.484134  0.012410  0.635395  0.480167\n",
            "2021-05-10 -0.391996 -1.346176  1.534167  1.157938\n",
            "2021-05-09 -0.128637  0.346681  1.996766 -0.551907\n",
            "2021-05-08  0.169289  0.652416 -0.730644  0.815407\n",
            "2021-05-07  1.562448  0.674749 -0.458767  1.572883\n"
          ],
          "name": "stdout"
        }
      ]
    },
    {
      "cell_type": "code",
      "metadata": {
        "colab": {
          "base_uri": "https://localhost:8080/",
          "height": 235
        },
        "id": "9NB29kgASRrz",
        "outputId": "6364592f-7dcc-4ed6-e046-26d4ea96a0af"
      },
      "source": [
        "df.sort_values(by='국어')"
      ],
      "execution_count": 39,
      "outputs": [
        {
          "output_type": "execute_result",
          "data": {
            "text/html": [
              "<div>\n",
              "<style scoped>\n",
              "    .dataframe tbody tr th:only-of-type {\n",
              "        vertical-align: middle;\n",
              "    }\n",
              "\n",
              "    .dataframe tbody tr th {\n",
              "        vertical-align: top;\n",
              "    }\n",
              "\n",
              "    .dataframe thead th {\n",
              "        text-align: right;\n",
              "    }\n",
              "</style>\n",
              "<table border=\"1\" class=\"dataframe\">\n",
              "  <thead>\n",
              "    <tr style=\"text-align: right;\">\n",
              "      <th></th>\n",
              "      <th>국어</th>\n",
              "      <th>영어</th>\n",
              "      <th>수학</th>\n",
              "      <th>물리</th>\n",
              "    </tr>\n",
              "  </thead>\n",
              "  <tbody>\n",
              "    <tr>\n",
              "      <th>2021-05-10</th>\n",
              "      <td>-0.391996</td>\n",
              "      <td>-1.346176</td>\n",
              "      <td>1.534167</td>\n",
              "      <td>1.157938</td>\n",
              "    </tr>\n",
              "    <tr>\n",
              "      <th>2021-05-09</th>\n",
              "      <td>-0.128637</td>\n",
              "      <td>0.346681</td>\n",
              "      <td>1.996766</td>\n",
              "      <td>-0.551907</td>\n",
              "    </tr>\n",
              "    <tr>\n",
              "      <th>2021-05-08</th>\n",
              "      <td>0.169289</td>\n",
              "      <td>0.652416</td>\n",
              "      <td>-0.730644</td>\n",
              "      <td>0.815407</td>\n",
              "    </tr>\n",
              "    <tr>\n",
              "      <th>2021-05-11</th>\n",
              "      <td>0.484134</td>\n",
              "      <td>0.012410</td>\n",
              "      <td>0.635395</td>\n",
              "      <td>0.480167</td>\n",
              "    </tr>\n",
              "    <tr>\n",
              "      <th>2021-05-12</th>\n",
              "      <td>0.721619</td>\n",
              "      <td>-2.408870</td>\n",
              "      <td>-0.145505</td>\n",
              "      <td>-0.628034</td>\n",
              "    </tr>\n",
              "    <tr>\n",
              "      <th>2021-05-07</th>\n",
              "      <td>1.562448</td>\n",
              "      <td>0.674749</td>\n",
              "      <td>-0.458767</td>\n",
              "      <td>1.572883</td>\n",
              "    </tr>\n",
              "  </tbody>\n",
              "</table>\n",
              "</div>"
            ],
            "text/plain": [
              "                  국어        영어        수학        물리\n",
              "2021-05-10 -0.391996 -1.346176  1.534167  1.157938\n",
              "2021-05-09 -0.128637  0.346681  1.996766 -0.551907\n",
              "2021-05-08  0.169289  0.652416 -0.730644  0.815407\n",
              "2021-05-11  0.484134  0.012410  0.635395  0.480167\n",
              "2021-05-12  0.721619 -2.408870 -0.145505 -0.628034\n",
              "2021-05-07  1.562448  0.674749 -0.458767  1.572883"
            ]
          },
          "metadata": {
            "tags": []
          },
          "execution_count": 39
        }
      ]
    },
    {
      "cell_type": "code",
      "metadata": {
        "colab": {
          "base_uri": "https://localhost:8080/"
        },
        "id": "rWjEHMDDSz0E",
        "outputId": "90d5b32a-dff1-4618-c79b-b7093fec4a5a"
      },
      "source": [
        "df['국어']"
      ],
      "execution_count": 40,
      "outputs": [
        {
          "output_type": "execute_result",
          "data": {
            "text/plain": [
              "2021-05-07    1.562448\n",
              "2021-05-08    0.169289\n",
              "2021-05-09   -0.128637\n",
              "2021-05-10   -0.391996\n",
              "2021-05-11    0.484134\n",
              "2021-05-12    0.721619\n",
              "Freq: D, Name: 국어, dtype: float64"
            ]
          },
          "metadata": {
            "tags": []
          },
          "execution_count": 40
        }
      ]
    },
    {
      "cell_type": "code",
      "metadata": {
        "colab": {
          "base_uri": "https://localhost:8080/",
          "height": 340
        },
        "id": "kuW_L4o4TX1k",
        "outputId": "59f46135-fb01-454e-abcd-a822589ff3d4"
      },
      "source": [
        "df[['국어,물리']]"
      ],
      "execution_count": 42,
      "outputs": [
        {
          "output_type": "error",
          "ename": "KeyError",
          "evalue": "ignored",
          "traceback": [
            "\u001b[0;31m---------------------------------------------------------------------------\u001b[0m",
            "\u001b[0;31mKeyError\u001b[0m                                  Traceback (most recent call last)",
            "\u001b[0;32m<ipython-input-42-62142cedb952>\u001b[0m in \u001b[0;36m<module>\u001b[0;34m()\u001b[0m\n\u001b[0;32m----> 1\u001b[0;31m \u001b[0mdf\u001b[0m\u001b[0;34m[\u001b[0m\u001b[0;34m[\u001b[0m\u001b[0;34m'국어,물리'\u001b[0m\u001b[0;34m]\u001b[0m\u001b[0;34m]\u001b[0m\u001b[0;34m\u001b[0m\u001b[0;34m\u001b[0m\u001b[0m\n\u001b[0m",
            "\u001b[0;32m/usr/local/lib/python3.7/dist-packages/pandas/core/frame.py\u001b[0m in \u001b[0;36m__getitem__\u001b[0;34m(self, key)\u001b[0m\n\u001b[1;32m   2910\u001b[0m             \u001b[0;32mif\u001b[0m \u001b[0mis_iterator\u001b[0m\u001b[0;34m(\u001b[0m\u001b[0mkey\u001b[0m\u001b[0;34m)\u001b[0m\u001b[0;34m:\u001b[0m\u001b[0;34m\u001b[0m\u001b[0;34m\u001b[0m\u001b[0m\n\u001b[1;32m   2911\u001b[0m                 \u001b[0mkey\u001b[0m \u001b[0;34m=\u001b[0m \u001b[0mlist\u001b[0m\u001b[0;34m(\u001b[0m\u001b[0mkey\u001b[0m\u001b[0;34m)\u001b[0m\u001b[0;34m\u001b[0m\u001b[0;34m\u001b[0m\u001b[0m\n\u001b[0;32m-> 2912\u001b[0;31m             \u001b[0mindexer\u001b[0m \u001b[0;34m=\u001b[0m \u001b[0mself\u001b[0m\u001b[0;34m.\u001b[0m\u001b[0mloc\u001b[0m\u001b[0;34m.\u001b[0m\u001b[0m_get_listlike_indexer\u001b[0m\u001b[0;34m(\u001b[0m\u001b[0mkey\u001b[0m\u001b[0;34m,\u001b[0m \u001b[0maxis\u001b[0m\u001b[0;34m=\u001b[0m\u001b[0;36m1\u001b[0m\u001b[0;34m,\u001b[0m \u001b[0mraise_missing\u001b[0m\u001b[0;34m=\u001b[0m\u001b[0;32mTrue\u001b[0m\u001b[0;34m)\u001b[0m\u001b[0;34m[\u001b[0m\u001b[0;36m1\u001b[0m\u001b[0;34m]\u001b[0m\u001b[0;34m\u001b[0m\u001b[0;34m\u001b[0m\u001b[0m\n\u001b[0m\u001b[1;32m   2913\u001b[0m \u001b[0;34m\u001b[0m\u001b[0m\n\u001b[1;32m   2914\u001b[0m         \u001b[0;31m# take() does not accept boolean indexers\u001b[0m\u001b[0;34m\u001b[0m\u001b[0;34m\u001b[0m\u001b[0;34m\u001b[0m\u001b[0m\n",
            "\u001b[0;32m/usr/local/lib/python3.7/dist-packages/pandas/core/indexing.py\u001b[0m in \u001b[0;36m_get_listlike_indexer\u001b[0;34m(self, key, axis, raise_missing)\u001b[0m\n\u001b[1;32m   1252\u001b[0m             \u001b[0mkeyarr\u001b[0m\u001b[0;34m,\u001b[0m \u001b[0mindexer\u001b[0m\u001b[0;34m,\u001b[0m \u001b[0mnew_indexer\u001b[0m \u001b[0;34m=\u001b[0m \u001b[0max\u001b[0m\u001b[0;34m.\u001b[0m\u001b[0m_reindex_non_unique\u001b[0m\u001b[0;34m(\u001b[0m\u001b[0mkeyarr\u001b[0m\u001b[0;34m)\u001b[0m\u001b[0;34m\u001b[0m\u001b[0;34m\u001b[0m\u001b[0m\n\u001b[1;32m   1253\u001b[0m \u001b[0;34m\u001b[0m\u001b[0m\n\u001b[0;32m-> 1254\u001b[0;31m         \u001b[0mself\u001b[0m\u001b[0;34m.\u001b[0m\u001b[0m_validate_read_indexer\u001b[0m\u001b[0;34m(\u001b[0m\u001b[0mkeyarr\u001b[0m\u001b[0;34m,\u001b[0m \u001b[0mindexer\u001b[0m\u001b[0;34m,\u001b[0m \u001b[0maxis\u001b[0m\u001b[0;34m,\u001b[0m \u001b[0mraise_missing\u001b[0m\u001b[0;34m=\u001b[0m\u001b[0mraise_missing\u001b[0m\u001b[0;34m)\u001b[0m\u001b[0;34m\u001b[0m\u001b[0;34m\u001b[0m\u001b[0m\n\u001b[0m\u001b[1;32m   1255\u001b[0m         \u001b[0;32mreturn\u001b[0m \u001b[0mkeyarr\u001b[0m\u001b[0;34m,\u001b[0m \u001b[0mindexer\u001b[0m\u001b[0;34m\u001b[0m\u001b[0;34m\u001b[0m\u001b[0m\n\u001b[1;32m   1256\u001b[0m \u001b[0;34m\u001b[0m\u001b[0m\n",
            "\u001b[0;32m/usr/local/lib/python3.7/dist-packages/pandas/core/indexing.py\u001b[0m in \u001b[0;36m_validate_read_indexer\u001b[0;34m(self, key, indexer, axis, raise_missing)\u001b[0m\n\u001b[1;32m   1296\u001b[0m             \u001b[0;32mif\u001b[0m \u001b[0mmissing\u001b[0m \u001b[0;34m==\u001b[0m \u001b[0mlen\u001b[0m\u001b[0;34m(\u001b[0m\u001b[0mindexer\u001b[0m\u001b[0;34m)\u001b[0m\u001b[0;34m:\u001b[0m\u001b[0;34m\u001b[0m\u001b[0;34m\u001b[0m\u001b[0m\n\u001b[1;32m   1297\u001b[0m                 \u001b[0maxis_name\u001b[0m \u001b[0;34m=\u001b[0m \u001b[0mself\u001b[0m\u001b[0;34m.\u001b[0m\u001b[0mobj\u001b[0m\u001b[0;34m.\u001b[0m\u001b[0m_get_axis_name\u001b[0m\u001b[0;34m(\u001b[0m\u001b[0maxis\u001b[0m\u001b[0;34m)\u001b[0m\u001b[0;34m\u001b[0m\u001b[0;34m\u001b[0m\u001b[0m\n\u001b[0;32m-> 1298\u001b[0;31m                 \u001b[0;32mraise\u001b[0m \u001b[0mKeyError\u001b[0m\u001b[0;34m(\u001b[0m\u001b[0;34mf\"None of [{key}] are in the [{axis_name}]\"\u001b[0m\u001b[0;34m)\u001b[0m\u001b[0;34m\u001b[0m\u001b[0;34m\u001b[0m\u001b[0m\n\u001b[0m\u001b[1;32m   1299\u001b[0m \u001b[0;34m\u001b[0m\u001b[0m\n\u001b[1;32m   1300\u001b[0m             \u001b[0;31m# We (temporarily) allow for some missing keys with .loc, except in\u001b[0m\u001b[0;34m\u001b[0m\u001b[0;34m\u001b[0m\u001b[0;34m\u001b[0m\u001b[0m\n",
            "\u001b[0;31mKeyError\u001b[0m: \"None of [Index(['국어,물리'], dtype='object')] are in the [columns]\""
          ]
        }
      ]
    },
    {
      "cell_type": "code",
      "metadata": {
        "colab": {
          "base_uri": "https://localhost:8080/"
        },
        "id": "bLlIJxdvTvW2",
        "outputId": "3e529636-a983-4f39-c577-54b3c7c6b28f"
      },
      "source": [
        "print(df[0:3]);print() "
      ],
      "execution_count": 43,
      "outputs": [
        {
          "output_type": "stream",
          "text": [
            "                  국어        영어        수학        물리\n",
            "2021-05-07  1.562448  0.674749 -0.458767  1.572883\n",
            "2021-05-08  0.169289  0.652416 -0.730644  0.815407\n",
            "2021-05-09 -0.128637  0.346681  1.996766 -0.551907\n",
            "\n"
          ],
          "name": "stdout"
        }
      ]
    },
    {
      "cell_type": "code",
      "metadata": {
        "colab": {
          "base_uri": "https://localhost:8080/"
        },
        "id": "hPDXqFJnUAIk",
        "outputId": "10f42f0f-7495-4324-9053-cff0f891c7ea"
      },
      "source": [
        "print(df.loc[dates[0]]) "
      ],
      "execution_count": 44,
      "outputs": [
        {
          "output_type": "stream",
          "text": [
            "국어    1.562448\n",
            "영어    0.674749\n",
            "수학   -0.458767\n",
            "물리    1.572883\n",
            "Name: 2021-05-07 00:00:00, dtype: float64\n"
          ],
          "name": "stdout"
        }
      ]
    },
    {
      "cell_type": "code",
      "metadata": {
        "colab": {
          "base_uri": "https://localhost:8080/",
          "height": 111
        },
        "id": "iPWoB6tqVC1l",
        "outputId": "85116d91-aa6b-482d-d676-aec4eb5bb41d"
      },
      "source": [
        "df.iloc[1:3,0:2]"
      ],
      "execution_count": 46,
      "outputs": [
        {
          "output_type": "execute_result",
          "data": {
            "text/html": [
              "<div>\n",
              "<style scoped>\n",
              "    .dataframe tbody tr th:only-of-type {\n",
              "        vertical-align: middle;\n",
              "    }\n",
              "\n",
              "    .dataframe tbody tr th {\n",
              "        vertical-align: top;\n",
              "    }\n",
              "\n",
              "    .dataframe thead th {\n",
              "        text-align: right;\n",
              "    }\n",
              "</style>\n",
              "<table border=\"1\" class=\"dataframe\">\n",
              "  <thead>\n",
              "    <tr style=\"text-align: right;\">\n",
              "      <th></th>\n",
              "      <th>국어</th>\n",
              "      <th>영어</th>\n",
              "    </tr>\n",
              "  </thead>\n",
              "  <tbody>\n",
              "    <tr>\n",
              "      <th>2021-05-08</th>\n",
              "      <td>0.169289</td>\n",
              "      <td>0.652416</td>\n",
              "    </tr>\n",
              "    <tr>\n",
              "      <th>2021-05-09</th>\n",
              "      <td>-0.128637</td>\n",
              "      <td>0.346681</td>\n",
              "    </tr>\n",
              "  </tbody>\n",
              "</table>\n",
              "</div>"
            ],
            "text/plain": [
              "                  국어        영어\n",
              "2021-05-08  0.169289  0.652416\n",
              "2021-05-09 -0.128637  0.346681"
            ]
          },
          "metadata": {
            "tags": []
          },
          "execution_count": 46
        }
      ]
    },
    {
      "cell_type": "code",
      "metadata": {
        "colab": {
          "base_uri": "https://localhost:8080/"
        },
        "id": "R3QX-7n3WjBk",
        "outputId": "49a97a33-4903-4ffb-9841-0cc3b0cd949d"
      },
      "source": [
        "df.iloc[3,2]"
      ],
      "execution_count": 47,
      "outputs": [
        {
          "output_type": "execute_result",
          "data": {
            "text/plain": [
              "1.5341665554982375"
            ]
          },
          "metadata": {
            "tags": []
          },
          "execution_count": 47
        }
      ]
    },
    {
      "cell_type": "code",
      "metadata": {
        "colab": {
          "base_uri": "https://localhost:8080/"
        },
        "id": "yaR7KBKFXkFU",
        "outputId": "7e11a6e9-3e1b-4e63-88ab-01c0dba84895"
      },
      "source": [
        "df.물리 "
      ],
      "execution_count": 50,
      "outputs": [
        {
          "output_type": "execute_result",
          "data": {
            "text/plain": [
              "2021-05-07    1.572883\n",
              "2021-05-08    0.815407\n",
              "2021-05-09   -0.551907\n",
              "2021-05-10    1.157938\n",
              "2021-05-11    0.480167\n",
              "2021-05-12   -0.628034\n",
              "Freq: D, Name: 물리, dtype: float64"
            ]
          },
          "metadata": {
            "tags": []
          },
          "execution_count": 50
        }
      ]
    },
    {
      "cell_type": "code",
      "metadata": {
        "colab": {
          "base_uri": "https://localhost:8080/"
        },
        "id": "MqnSZo6HYhDl",
        "outputId": "978adf03-ddd0-44ca-bcaa-1e9bdc99a4ae"
      },
      "source": [
        "df.물리>0"
      ],
      "execution_count": 51,
      "outputs": [
        {
          "output_type": "execute_result",
          "data": {
            "text/plain": [
              "2021-05-07     True\n",
              "2021-05-08     True\n",
              "2021-05-09    False\n",
              "2021-05-10     True\n",
              "2021-05-11     True\n",
              "2021-05-12    False\n",
              "Freq: D, Name: 물리, dtype: bool"
            ]
          },
          "metadata": {
            "tags": []
          },
          "execution_count": 51
        }
      ]
    },
    {
      "cell_type": "code",
      "metadata": {
        "colab": {
          "base_uri": "https://localhost:8080/",
          "height": 235
        },
        "id": "Tcn6ednNYub1",
        "outputId": "a47e28ce-4ab3-468f-a09e-8245bed19f19"
      },
      "source": [
        "df[df>0]"
      ],
      "execution_count": 52,
      "outputs": [
        {
          "output_type": "execute_result",
          "data": {
            "text/html": [
              "<div>\n",
              "<style scoped>\n",
              "    .dataframe tbody tr th:only-of-type {\n",
              "        vertical-align: middle;\n",
              "    }\n",
              "\n",
              "    .dataframe tbody tr th {\n",
              "        vertical-align: top;\n",
              "    }\n",
              "\n",
              "    .dataframe thead th {\n",
              "        text-align: right;\n",
              "    }\n",
              "</style>\n",
              "<table border=\"1\" class=\"dataframe\">\n",
              "  <thead>\n",
              "    <tr style=\"text-align: right;\">\n",
              "      <th></th>\n",
              "      <th>국어</th>\n",
              "      <th>영어</th>\n",
              "      <th>수학</th>\n",
              "      <th>물리</th>\n",
              "    </tr>\n",
              "  </thead>\n",
              "  <tbody>\n",
              "    <tr>\n",
              "      <th>2021-05-07</th>\n",
              "      <td>1.562448</td>\n",
              "      <td>0.674749</td>\n",
              "      <td>NaN</td>\n",
              "      <td>1.572883</td>\n",
              "    </tr>\n",
              "    <tr>\n",
              "      <th>2021-05-08</th>\n",
              "      <td>0.169289</td>\n",
              "      <td>0.652416</td>\n",
              "      <td>NaN</td>\n",
              "      <td>0.815407</td>\n",
              "    </tr>\n",
              "    <tr>\n",
              "      <th>2021-05-09</th>\n",
              "      <td>NaN</td>\n",
              "      <td>0.346681</td>\n",
              "      <td>1.996766</td>\n",
              "      <td>NaN</td>\n",
              "    </tr>\n",
              "    <tr>\n",
              "      <th>2021-05-10</th>\n",
              "      <td>NaN</td>\n",
              "      <td>NaN</td>\n",
              "      <td>1.534167</td>\n",
              "      <td>1.157938</td>\n",
              "    </tr>\n",
              "    <tr>\n",
              "      <th>2021-05-11</th>\n",
              "      <td>0.484134</td>\n",
              "      <td>0.012410</td>\n",
              "      <td>0.635395</td>\n",
              "      <td>0.480167</td>\n",
              "    </tr>\n",
              "    <tr>\n",
              "      <th>2021-05-12</th>\n",
              "      <td>0.721619</td>\n",
              "      <td>NaN</td>\n",
              "      <td>NaN</td>\n",
              "      <td>NaN</td>\n",
              "    </tr>\n",
              "  </tbody>\n",
              "</table>\n",
              "</div>"
            ],
            "text/plain": [
              "                  국어        영어        수학        물리\n",
              "2021-05-07  1.562448  0.674749       NaN  1.572883\n",
              "2021-05-08  0.169289  0.652416       NaN  0.815407\n",
              "2021-05-09       NaN  0.346681  1.996766       NaN\n",
              "2021-05-10       NaN       NaN  1.534167  1.157938\n",
              "2021-05-11  0.484134  0.012410  0.635395  0.480167\n",
              "2021-05-12  0.721619       NaN       NaN       NaN"
            ]
          },
          "metadata": {
            "tags": []
          },
          "execution_count": 52
        }
      ]
    },
    {
      "cell_type": "code",
      "metadata": {
        "id": "0bxE2kuLZK91"
      },
      "source": [
        "df2= df.copy()"
      ],
      "execution_count": 53,
      "outputs": []
    },
    {
      "cell_type": "code",
      "metadata": {
        "colab": {
          "base_uri": "https://localhost:8080/",
          "height": 235
        },
        "id": "fH-qQJ7DZTuE",
        "outputId": "d7193534-9e49-4121-e875-608ae7e7a489"
      },
      "source": [
        "df2"
      ],
      "execution_count": 54,
      "outputs": [
        {
          "output_type": "execute_result",
          "data": {
            "text/html": [
              "<div>\n",
              "<style scoped>\n",
              "    .dataframe tbody tr th:only-of-type {\n",
              "        vertical-align: middle;\n",
              "    }\n",
              "\n",
              "    .dataframe tbody tr th {\n",
              "        vertical-align: top;\n",
              "    }\n",
              "\n",
              "    .dataframe thead th {\n",
              "        text-align: right;\n",
              "    }\n",
              "</style>\n",
              "<table border=\"1\" class=\"dataframe\">\n",
              "  <thead>\n",
              "    <tr style=\"text-align: right;\">\n",
              "      <th></th>\n",
              "      <th>국어</th>\n",
              "      <th>영어</th>\n",
              "      <th>수학</th>\n",
              "      <th>물리</th>\n",
              "    </tr>\n",
              "  </thead>\n",
              "  <tbody>\n",
              "    <tr>\n",
              "      <th>2021-05-07</th>\n",
              "      <td>1.562448</td>\n",
              "      <td>0.674749</td>\n",
              "      <td>-0.458767</td>\n",
              "      <td>1.572883</td>\n",
              "    </tr>\n",
              "    <tr>\n",
              "      <th>2021-05-08</th>\n",
              "      <td>0.169289</td>\n",
              "      <td>0.652416</td>\n",
              "      <td>-0.730644</td>\n",
              "      <td>0.815407</td>\n",
              "    </tr>\n",
              "    <tr>\n",
              "      <th>2021-05-09</th>\n",
              "      <td>-0.128637</td>\n",
              "      <td>0.346681</td>\n",
              "      <td>1.996766</td>\n",
              "      <td>-0.551907</td>\n",
              "    </tr>\n",
              "    <tr>\n",
              "      <th>2021-05-10</th>\n",
              "      <td>-0.391996</td>\n",
              "      <td>-1.346176</td>\n",
              "      <td>1.534167</td>\n",
              "      <td>1.157938</td>\n",
              "    </tr>\n",
              "    <tr>\n",
              "      <th>2021-05-11</th>\n",
              "      <td>0.484134</td>\n",
              "      <td>0.012410</td>\n",
              "      <td>0.635395</td>\n",
              "      <td>0.480167</td>\n",
              "    </tr>\n",
              "    <tr>\n",
              "      <th>2021-05-12</th>\n",
              "      <td>0.721619</td>\n",
              "      <td>-2.408870</td>\n",
              "      <td>-0.145505</td>\n",
              "      <td>-0.628034</td>\n",
              "    </tr>\n",
              "  </tbody>\n",
              "</table>\n",
              "</div>"
            ],
            "text/plain": [
              "                  국어        영어        수학        물리\n",
              "2021-05-07  1.562448  0.674749 -0.458767  1.572883\n",
              "2021-05-08  0.169289  0.652416 -0.730644  0.815407\n",
              "2021-05-09 -0.128637  0.346681  1.996766 -0.551907\n",
              "2021-05-10 -0.391996 -1.346176  1.534167  1.157938\n",
              "2021-05-11  0.484134  0.012410  0.635395  0.480167\n",
              "2021-05-12  0.721619 -2.408870 -0.145505 -0.628034"
            ]
          },
          "metadata": {
            "tags": []
          },
          "execution_count": 54
        }
      ]
    },
    {
      "cell_type": "code",
      "metadata": {
        "colab": {
          "base_uri": "https://localhost:8080/"
        },
        "id": "Dol5_TN8Za70",
        "outputId": "b4f5872b-448f-453a-f022-131e7124708c"
      },
      "source": [
        "s1 = pd.Series([1, 2, 3, 4, 5, 6], index=pd.date_range('20201113', periods=6))\n",
        "print(s1);print()"
      ],
      "execution_count": 55,
      "outputs": [
        {
          "output_type": "stream",
          "text": [
            "2020-11-13    1\n",
            "2020-11-14    2\n",
            "2020-11-15    3\n",
            "2020-11-16    4\n",
            "2020-11-17    5\n",
            "2020-11-18    6\n",
            "Freq: D, dtype: int64\n",
            "\n"
          ],
          "name": "stdout"
        }
      ]
    },
    {
      "cell_type": "code",
      "metadata": {
        "colab": {
          "base_uri": "https://localhost:8080/"
        },
        "id": "rkBszbGha3CV",
        "outputId": "194f892a-b750-46d1-ca3f-9b42ca668a1a"
      },
      "source": [
        "df['F'] = s1\n",
        "print(df);print()"
      ],
      "execution_count": 56,
      "outputs": [
        {
          "output_type": "stream",
          "text": [
            "                  국어        영어        수학        물리   F\n",
            "2021-05-07  1.562448  0.674749 -0.458767  1.572883 NaN\n",
            "2021-05-08  0.169289  0.652416 -0.730644  0.815407 NaN\n",
            "2021-05-09 -0.128637  0.346681  1.996766 -0.551907 NaN\n",
            "2021-05-10 -0.391996 -1.346176  1.534167  1.157938 NaN\n",
            "2021-05-11  0.484134  0.012410  0.635395  0.480167 NaN\n",
            "2021-05-12  0.721619 -2.408870 -0.145505 -0.628034 NaN\n",
            "\n"
          ],
          "name": "stdout"
        }
      ]
    },
    {
      "cell_type": "code",
      "metadata": {
        "id": "op-Z83Dma6hU"
      },
      "source": [
        ""
      ],
      "execution_count": null,
      "outputs": []
    }
  ]
}