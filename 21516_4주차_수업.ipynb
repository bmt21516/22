{
  "nbformat": 4,
  "nbformat_minor": 0,
  "metadata": {
    "colab": {
      "name": "21516_4주차 수업.ipynb",
      "provenance": [],
      "authorship_tag": "ABX9TyMnc+/2BcKUF1QJ6mPahMDn",
      "include_colab_link": true
    },
    "kernelspec": {
      "name": "python3",
      "display_name": "Python 3"
    },
    "language_info": {
      "name": "python"
    }
  },
  "cells": [
    {
      "cell_type": "markdown",
      "metadata": {
        "id": "view-in-github",
        "colab_type": "text"
      },
      "source": [
        "<a href=\"https://colab.research.google.com/github/bmt21516/22/blob/main/21516_4%EC%A3%BC%EC%B0%A8_%EC%88%98%EC%97%85.ipynb\" target=\"_parent\"><img src=\"https://colab.research.google.com/assets/colab-badge.svg\" alt=\"Open In Colab\"/></a>"
      ]
    },
    {
      "cell_type": "code",
      "metadata": {
        "colab": {
          "base_uri": "https://localhost:8080/"
        },
        "id": "UVP-h0gi1MpR",
        "outputId": "80c2575f-0863-4fb8-9110-06e3cc9f016b"
      },
      "source": [
        "#심리게임\n",
        "#stering ,int, float,char\n",
        "print(\"[심리테스트]\")\n",
        "menu = input(\"당신이 좋아하는 과일 입력 : \")\n",
        "if menu == '사과' : \n",
        "  print(\"당신은 사과를 좋아하네요\")\n",
        "\n",
        "elif menu == '수박' : \n",
        "  print(\"당신은 여름사나이군요.\")"
      ],
      "execution_count": 4,
      "outputs": [
        {
          "output_type": "stream",
          "text": [
            "[심리테스트]\n",
            "당신이 좋아하는 과일 입력 : 수박\n",
            "당신은 여름사나이군요.\n"
          ],
          "name": "stdout"
        }
      ]
    },
    {
      "cell_type": "code",
      "metadata": {
        "colab": {
          "base_uri": "https://localhost:8080/"
        },
        "id": "G-nsrMNe2NFz",
        "outputId": "f4e22b98-5647-496f-d467-2a2fce57d4c0"
      },
      "source": [
        "names = ['정밀','물리','산설','메카','로봇','전기']\n",
        "\n",
        "for temp in [0,1,2,3,4,5]:\n",
        "  print(names[temp])"
      ],
      "execution_count": 5,
      "outputs": [
        {
          "output_type": "stream",
          "text": [
            "정밀\n",
            "물리\n",
            "산설\n",
            "메카\n",
            "로봇\n",
            "전기\n"
          ],
          "name": "stdout"
        }
      ]
    },
    {
      "cell_type": "code",
      "metadata": {
        "colab": {
          "base_uri": "https://localhost:8080/"
        },
        "id": "vIQJ-mZw40Lw",
        "outputId": "7ac3c41b-baa2-4bf4-f416-850393a31d19"
      },
      "source": [
        "names"
      ],
      "execution_count": 6,
      "outputs": [
        {
          "output_type": "execute_result",
          "data": {
            "text/plain": [
              "['정밀', '물리', '산설', '메카', '로봇', '전기']"
            ]
          },
          "metadata": {
            "tags": []
          },
          "execution_count": 6
        }
      ]
    },
    {
      "cell_type": "code",
      "metadata": {
        "colab": {
          "base_uri": "https://localhost:8080/",
          "height": 35
        },
        "id": "xifN2gQ25xbY",
        "outputId": "68f2163f-9a6b-4dbf-a3b9-cdf9e652ae71"
      },
      "source": [
        "names[-1]"
      ],
      "execution_count": 7,
      "outputs": [
        {
          "output_type": "execute_result",
          "data": {
            "application/vnd.google.colaboratory.intrinsic+json": {
              "type": "string"
            },
            "text/plain": [
              "'전기'"
            ]
          },
          "metadata": {
            "tags": []
          },
          "execution_count": 7
        }
      ]
    },
    {
      "cell_type": "code",
      "metadata": {
        "colab": {
          "base_uri": "https://localhost:8080/"
        },
        "id": "6Ora9ZLy52eY",
        "outputId": "25095cc0-96c5-4604-d0ba-74862adf3716"
      },
      "source": [
        "names[1:]"
      ],
      "execution_count": 8,
      "outputs": [
        {
          "output_type": "execute_result",
          "data": {
            "text/plain": [
              "['물리', '산설', '메카', '로봇', '전기']"
            ]
          },
          "metadata": {
            "tags": []
          },
          "execution_count": 8
        }
      ]
    },
    {
      "cell_type": "code",
      "metadata": {
        "colab": {
          "base_uri": "https://localhost:8080/"
        },
        "id": "1kM9nvjS6fcr",
        "outputId": "80dd3b70-1536-40b9-ae34-e6d539671e68"
      },
      "source": [
        "names"
      ],
      "execution_count": 13,
      "outputs": [
        {
          "output_type": "execute_result",
          "data": {
            "text/plain": [
              "['정밀', '물리', '산설', '메카', '로봇', '전기', '부기공', '부기공', '부기공']"
            ]
          },
          "metadata": {
            "tags": []
          },
          "execution_count": 13
        }
      ]
    },
    {
      "cell_type": "code",
      "metadata": {
        "colab": {
          "base_uri": "https://localhost:8080/"
        },
        "id": "p4E3DXux6o9o",
        "outputId": "db6d1c54-749b-4195-bb89-e6f21a733e57"
      },
      "source": [
        "len(names)"
      ],
      "execution_count": 15,
      "outputs": [
        {
          "output_type": "execute_result",
          "data": {
            "text/plain": [
              "9"
            ]
          },
          "metadata": {
            "tags": []
          },
          "execution_count": 15
        }
      ]
    },
    {
      "cell_type": "code",
      "metadata": {
        "colab": {
          "base_uri": "https://localhost:8080/"
        },
        "id": "XeOiGwKA7ET4",
        "outputId": "9d3c0b41-8ba2-4353-aa7c-9797671d3429"
      },
      "source": [
        "names.count(\"부기공\")"
      ],
      "execution_count": 16,
      "outputs": [
        {
          "output_type": "execute_result",
          "data": {
            "text/plain": [
              "3"
            ]
          },
          "metadata": {
            "tags": []
          },
          "execution_count": 16
        }
      ]
    },
    {
      "cell_type": "code",
      "metadata": {
        "colab": {
          "base_uri": "https://localhost:8080/",
          "height": 134
        },
        "id": "37VuvsnM7bHA",
        "outputId": "7dbd4d3c-cf7c-471d-9f9b-4a88924ff432"
      },
      "source": [
        "names.append('부산기계공')\n",
        "   \n",
        "for name in names:\n",
        "  if len(name)>4:\n",
        "    print(f [name]'업고등학교')"
      ],
      "execution_count": 18,
      "outputs": [
        {
          "output_type": "error",
          "ename": "SyntaxError",
          "evalue": "ignored",
          "traceback": [
            "\u001b[0;36m  File \u001b[0;32m\"<ipython-input-18-f43166e4e47a>\"\u001b[0;36m, line \u001b[0;32m5\u001b[0m\n\u001b[0;31m    print(f [name]\"업고등학교\")\u001b[0m\n\u001b[0m                        ^\u001b[0m\n\u001b[0;31mSyntaxError\u001b[0m\u001b[0;31m:\u001b[0m invalid syntax\n"
          ]
        }
      ]
    },
    {
      "cell_type": "code",
      "metadata": {
        "colab": {
          "base_uri": "https://localhost:8080/"
        },
        "id": "V4EKq9Wu8EAg",
        "outputId": "ea5303c4-77ef-46f2-a16a-cf336a48cb00"
      },
      "source": [
        "print('hello world')\n",
        "print('Busan')\n"
      ],
      "execution_count": 19,
      "outputs": [
        {
          "output_type": "stream",
          "text": [
            "hello world\n",
            "Busan\n"
          ],
          "name": "stdout"
        }
      ]
    },
    {
      "cell_type": "code",
      "metadata": {
        "colab": {
          "base_uri": "https://localhost:8080/"
        },
        "id": "TE1ZdLfH-_0u",
        "outputId": "b139d299-d20a-474c-a4db-5f9783bb3598"
      },
      "source": [
        "#print()함수 end 매개변수 \n",
        "print('hello', end = '\\n')\n",
        "print('world')"
      ],
      "execution_count": 21,
      "outputs": [
        {
          "output_type": "stream",
          "text": [
            "hello\n",
            "world\n"
          ],
          "name": "stdout"
        }
      ]
    },
    {
      "cell_type": "code",
      "metadata": {
        "colab": {
          "base_uri": "https://localhost:8080/"
        },
        "id": "po2Uu4iX_iAH",
        "outputId": "f182d8b6-3bb7-44d1-b25b-d8b8677a9fb5"
      },
      "source": [
        "print('hello', 'world')\n",
        "print('hello'+ 'world')"
      ],
      "execution_count": 22,
      "outputs": [
        {
          "output_type": "stream",
          "text": [
            "hello world\n",
            "helloworld\n"
          ],
          "name": "stdout"
        }
      ]
    },
    {
      "cell_type": "code",
      "metadata": {
        "colab": {
          "base_uri": "https://localhost:8080/"
        },
        "id": "BoROFuQgAMhW",
        "outputId": "5f990091-7c68-44b3-8f5a-012316137ef3"
      },
      "source": [
        "print('hello\\'')    \n",
        "print('hello\\'')"
      ],
      "execution_count": 23,
      "outputs": [
        {
          "output_type": "stream",
          "text": [
            "hello'\n",
            "hello'\n"
          ],
          "name": "stdout"
        }
      ]
    },
    {
      "cell_type": "code",
      "metadata": {
        "colab": {
          "base_uri": "https://localhost:8080/"
        },
        "id": "oN_mcbZ8A2Dn",
        "outputId": "8aa96794-e0f8-4b34-ce57-a3333a103868"
      },
      "source": [
        "x = input('x 입력 :')\n",
        "y = input('y 입력 :')\n"
      ],
      "execution_count": 28,
      "outputs": [
        {
          "output_type": "stream",
          "text": [
            "x 입력 :10\n",
            "y 입력 :20\n"
          ],
          "name": "stdout"
        }
      ]
    },
    {
      "cell_type": "code",
      "metadata": {
        "id": "sAc-bEPOBWnG"
      },
      "source": [
        "x = int(x)\n",
        "y = int(y)"
      ],
      "execution_count": 33,
      "outputs": []
    },
    {
      "cell_type": "code",
      "metadata": {
        "colab": {
          "base_uri": "https://localhost:8080/"
        },
        "id": "crFpA7McB5TW",
        "outputId": "5abeab89-6443-4340-aa63-e99bf6f6af8d"
      },
      "source": [
        "print('(:'*50)"
      ],
      "execution_count": 35,
      "outputs": [
        {
          "output_type": "stream",
          "text": [
            "(:(:(:(:(:(:(:(:(:(:(:(:(:(:(:(:(:(:(:(:(:(:(:(:(:(:(:(:(:(:(:(:(:(:(:(:(:(:(:(:(:(:(:(:(:(:(:(:(:(:\n"
          ],
          "name": "stdout"
        }
      ]
    },
    {
      "cell_type": "code",
      "metadata": {
        "colab": {
          "base_uri": "https://localhost:8080/"
        },
        "id": "VL_SZ1rvDxgO",
        "outputId": "a52e0acb-6016-407c-a343-ea635de257fb"
      },
      "source": [
        "weight = float(input('weight(kg) : '))\n",
        "height = float(input('height(cm) : '))\n",
        "BMI_index = weight / (height/100)**2\n",
        "\n",
        "\n",
        "print(f'BMI : {BMI_index:.2f}')"
      ],
      "execution_count": 39,
      "outputs": [
        {
          "output_type": "stream",
          "text": [
            "weight(kg) : 70\n",
            "height(cm) : 169\n",
            "BMI : 24.51\n"
          ],
          "name": "stdout"
        }
      ]
    },
    {
      "cell_type": "code",
      "metadata": {
        "colab": {
          "base_uri": "https://localhost:8080/",
          "height": 134
        },
        "id": "v7erd8lkD9cV",
        "outputId": "bdaaa161-3f17-4859-9a9e-ee441cab08c5"
      },
      "source": [
        "x find(\"H\");"
      ],
      "execution_count": 41,
      "outputs": [
        {
          "output_type": "error",
          "ename": "SyntaxError",
          "evalue": "ignored",
          "traceback": [
            "\u001b[0;36m  File \u001b[0;32m\"<ipython-input-41-ae37175a805c>\"\u001b[0;36m, line \u001b[0;32m1\u001b[0m\n\u001b[0;31m    x find(\"H\");\u001b[0m\n\u001b[0m         ^\u001b[0m\n\u001b[0;31mSyntaxError\u001b[0m\u001b[0;31m:\u001b[0m invalid syntax\n"
          ]
        }
      ]
    },
    {
      "cell_type": "code",
      "metadata": {
        "id": "8eksA53lIUuc"
      },
      "source": [
        ""
      ],
      "execution_count": null,
      "outputs": []
    }
  ]
}